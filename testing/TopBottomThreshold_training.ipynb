{
 "cells": [
  {
   "cell_type": "code",
   "execution_count": 11,
   "metadata": {},
   "outputs": [],
   "source": [
    "import sys\n",
    "sys.path.append(\"..\")\n",
    "\n",
    "from src import MaxmindIp"
   ]
  },
  {
   "cell_type": "code",
   "execution_count": 12,
   "metadata": {},
   "outputs": [],
   "source": [
    "volume_based_config = {'cost_tp': 0, 'cost_fp': -60, 'cost_tn': 0.1, 'cost_fn': -33}"
   ]
  },
  {
   "cell_type": "code",
   "execution_count": 3,
   "metadata": {},
   "outputs": [
    {
     "name": "stdout",
     "output_type": "stream",
     "text": [
      "data available: 14628772\n",
      "data length: 7663027\n",
      "Date: 2020-06-29 00:00:00       Lookback: 270   Step: 180\n",
      "Starting Corridor fr-keStarting Corridor es-ug\n",
      "\n",
      "Starting Corridor ca-ng\n",
      "Starting Corridor ca-ke\n",
      "Starting Corridor gb-ng\n",
      "Starting Corridor ca-tz\n",
      "Starting Corridor -Starting Corridor ca-gh\n",
      "\n",
      "Starting Corridor fr-gh\n",
      "Starting Corridor ca-ug\n",
      "Starting Corridor fr-ke\n",
      "Starting Corridor fr-ke\n",
      "Starting Corridor es-ug\n",
      "Starting Corridor es-ug\n",
      "Starting Corridor fr-ng\n",
      "Starting Corridor fr-gh\n",
      "Starting Corridor fr-gh\n",
      "Starting Corridor fr-\n",
      "Starting Corridor gb-bd\n",
      "Starting Corridor gb-gh\n",
      "Starting Corridor us-lr\n",
      "Starting Corridor ie-ug\n",
      "Starting Corridor ca-tz\n",
      "Starting Corridor ca-tz\n",
      "Starting Corridor ca-ng\n",
      "Starting Corridor ca-ng\n",
      "Starting Corridor gb-ke\n",
      "Starting Corridor ca-ug\n",
      "Starting Corridor ca-ug\n",
      "Starting Corridor es-ng\n",
      "Starting Corridor ca-gh\n",
      "Starting Corridor ca-gh\n",
      "Starting Corridor ca-ke\n",
      "Starting Corridor ca-ke\n",
      "Starting Corridor fr-sn\n",
      "Starting Corridor it-gh\n",
      "Starting Corridor -\n",
      "Starting Corridor -\n",
      "Starting Corridor es-ke\n",
      "Starting Corridor es-tz\n",
      "Starting Corridor it-\n",
      "Starting Corridor us-ng\n",
      "Starting Corridor ie-ke\n",
      "Starting Corridor it-ng\n",
      "Starting Corridor ie-tz\n",
      "Starting Corridor it-ug\n",
      "Starting Corridor ie-ng\n",
      "Starting Corridor us-\n",
      "Starting Corridor es-gh\n",
      "Starting Corridor es-sn\n",
      "Starting Corridor gb-tz\n",
      "Starting Corridor it-ke\n",
      "Starting Corridor it-tz\n",
      "Starting Corridor us-bd\n",
      "Starting Corridor us-ug\n",
      "Starting Corridor gb-ug\n",
      "Starting Corridor it-sn\n",
      "Starting Corridor us-ke\n",
      "Starting Corridor us-gh\n",
      "Starting Corridor us-tz\n",
      "Starting Corridor ie-gh\n",
      "Starting Corridor us-sn\n",
      "The modified system has an impact of 59482.3\n",
      "new_approach: -3813839.7000000025  -  today: -3873321.999999999\n",
      "Date: 2020-12-26 00:00:00       Lookback: 270   Step: 180\n",
      "Starting Corridor fr-ke\n",
      "Starting Corridor ca-ngStarting Corridor es-ug\n",
      "\n",
      "Starting Corridor gb-ng\n",
      "Starting Corridor fr-ghStarting Corridor ca-keStarting Corridor ca-tz\n",
      "\n",
      "\n",
      "Starting Corridor -Starting Corridor ca-ug\n",
      "\n",
      "Starting Corridor ca-gh\n",
      "Starting Corridor fr-ke\n",
      "Starting Corridor fr-ke\n",
      "Starting Corridor es-ug\n",
      "Starting Corridor es-ug\n",
      "Starting Corridor fr-ng\n",
      "Starting Corridor fr-\n",
      "Starting Corridor fr-gh\n",
      "Starting Corridor fr-gh\n",
      "Starting Corridor gb-bd\n",
      "Starting Corridor ie-ug\n",
      "Starting Corridor gb-gh\n",
      "Starting Corridor ca-tz\n",
      "Starting Corridor ca-tz\n",
      "Starting Corridor ca-ng\n",
      "Starting Corridor ca-ng\n",
      "Starting Corridor us-lr\n",
      "Starting Corridor gb-ke\n",
      "Starting Corridor es-ng\n",
      "Starting Corridor ca-ug\n",
      "Starting Corridor ca-ug\n",
      "Starting Corridor ca-gh\n",
      "Starting Corridor ca-gh\n",
      "Starting Corridor fr-sn\n",
      "Starting Corridor ca-ke\n",
      "Starting Corridor ca-ke\n",
      "Starting Corridor it-gh\n",
      "Starting Corridor -\n",
      "Starting Corridor -\n",
      "Starting Corridor es-ke\n",
      "Starting Corridor ie-ke\n",
      "Starting Corridor es-tz\n",
      "Starting Corridor it-\n",
      "Starting Corridor us-ng\n",
      "Starting Corridor it-ng\n",
      "Starting Corridor ie-ng\n",
      "Starting Corridor ie-tz\n",
      "Starting Corridor it-ug\n",
      "Starting Corridor es-gh\n",
      "Starting Corridor us-\n",
      "Starting Corridor es-sn\n",
      "Starting Corridor gb-tz\n",
      "Starting Corridor it-ke\n",
      "Starting Corridor it-tz\n",
      "Starting Corridor us-bd\n",
      "Starting Corridor us-ug\n",
      "Starting Corridor us-gh\n",
      "Starting Corridor gb-ug\n",
      "Starting Corridor it-sn\n",
      "Starting Corridor us-ke\n",
      "Starting Corridor us-tz\n",
      "Starting Corridor ie-gh\n",
      "Starting Corridor us-sn\n",
      "The modified system has an impact of 0.0\n",
      "new_approach: 0.0  -  today: 0.0\n"
     ]
    }
   ],
   "source": [
    "import warnings\n",
    "warnings.filterwarnings(\"ignore\")\n",
    "\n",
    "maxmind = MaxmindIp()\n",
    "maxmind.config['costs'] = volume_based_config\n",
    "maxmind.config['step'] = 180\n",
    "maxmind.config['cutoff'] = 85\n",
    "data = maxmind.train(reset_lookback=False,\n",
    "                     reset_step=False,\n",
    "                     sample_size=None,\n",
    "                     model_type='TopBottomThreshold',\n",
    "                     repetitions=500,\n",
    "                     evaluate=True)\n"
   ]
  },
  {
   "cell_type": "code",
   "execution_count": 4,
   "metadata": {},
   "outputs": [
    {
     "name": "stdout",
     "output_type": "stream",
     "text": [
      "Elasped time: 0.0 min\n",
      "Volume difference of 604 is less that 3000 ... ending search.\n"
     ]
    }
   ],
   "source": [
    "volume_based_config = maxmind.configure_volume_equals_baseline(search_time=-1, \n",
    "                                                               search_volume=3000,\n",
    "                                                               repetitions=500,\n",
    "                                                               model_type='TopBottomThreshold')"
   ]
  },
  {
   "cell_type": "code",
   "execution_count": 13,
   "metadata": {},
   "outputs": [
    {
     "name": "stdout",
     "output_type": "stream",
     "text": [
      "data available: 14628772\n",
      "data length: 7663027\n",
      "Date: 2020-06-29 00:00:00       Lookback: 270   Step: 180\n",
      "Starting Corridor es-ug\n",
      "Starting Corridor fr-ke\n",
      "Starting Corridor ca-ng\n",
      "Starting Corridor ca-ke\n",
      "Starting Corridor gb-ng\n",
      "Starting Corridor ca-tzStarting Corridor -Starting Corridor fr-gh\n",
      "Starting Corridor ca-gh\n",
      "Starting Corridor ca-ug\n",
      "\n",
      "\n",
      "Starting Corridor fr-ke\n",
      "Starting Corridor fr-ke\n",
      "Starting Corridor es-ug\n",
      "Starting Corridor es-ug\n",
      "Starting Corridor fr-gh\n",
      "Starting Corridor fr-gh\n",
      "Starting Corridor fr-ng\n",
      "Starting Corridor fr-\n",
      "Starting Corridor gb-gh\n",
      "Starting Corridor gb-bd\n",
      "Starting Corridor us-lr\n",
      "Starting Corridor ie-ug\n",
      "Starting Corridor ca-tz\n",
      "Starting Corridor ca-tz\n",
      "Starting Corridor ca-ng\n",
      "Starting Corridor ca-ng\n",
      "Starting Corridor gb-ke\n",
      "Starting Corridor ca-ug\n",
      "Starting Corridor ca-ug\n",
      "Starting Corridor ca-gh\n",
      "Starting Corridor ca-gh\n",
      "Starting Corridor es-ng\n",
      "Starting Corridor ca-ke\n",
      "Starting Corridor ca-ke\n",
      "Starting Corridor fr-sn\n",
      "Starting Corridor it-gh\n",
      "Starting Corridor -\n",
      "Starting Corridor -\n",
      "Starting Corridor es-ke\n",
      "Starting Corridor es-tz\n",
      "Starting Corridor it-\n",
      "Starting Corridor ie-ke\n",
      "Starting Corridor us-ng\n",
      "Starting Corridor it-ng\n",
      "Starting Corridor ie-tz\n",
      "Starting Corridor it-ug\n",
      "Starting Corridor us-\n",
      "Starting Corridor ie-ng\n",
      "Starting Corridor es-gh\n",
      "Starting Corridor es-sn\n",
      "Starting Corridor gb-tz\n",
      "Starting Corridor it-ke\n",
      "Starting Corridor it-tz\n",
      "Starting Corridor us-bd\n",
      "Starting Corridor us-ug\n",
      "Starting Corridor gb-ug\n",
      "Starting Corridor it-sn\n",
      "Starting Corridor us-ke\n",
      "Starting Corridor us-gh\n",
      "Starting Corridor us-tz\n",
      "Starting Corridor ie-gh\n",
      "Starting Corridor us-sn\n",
      "The modified system has an impact of 60844.5\n",
      "new_approach: -3812477.5000000014  -  today: -3873321.999999999\n",
      "Date: 2020-12-26 00:00:00       Lookback: 270   Step: 180\n",
      "Starting Corridor fr-ke\n",
      "Starting Corridor es-ug\n",
      "Starting Corridor ca-ng\n",
      "Starting Corridor gb-ng\n",
      "Starting Corridor ca-ke\n",
      "Starting Corridor fr-ghStarting Corridor ca-tzStarting Corridor ca-gh\n",
      "\n",
      "\n",
      "Starting Corridor -Starting Corridor ca-ug\n",
      "\n",
      "Starting Corridor fr-ke\n",
      "Starting Corridor fr-ke\n",
      "Starting Corridor es-ug\n",
      "Starting Corridor es-ug\n",
      "Starting Corridor fr-ng\n",
      "Starting Corridor fr-\n",
      "Starting Corridor fr-gh\n",
      "Starting Corridor fr-gh\n",
      "Starting Corridor gb-bd\n",
      "Starting Corridor ie-ug\n",
      "Starting Corridor gb-gh\n",
      "Starting Corridor ca-tz\n",
      "Starting Corridor ca-tz\n",
      "Starting Corridor ca-ng\n",
      "Starting Corridor ca-ng\n",
      "Starting Corridor us-lr\n",
      "Starting Corridor gb-ke\n",
      "Starting Corridor es-ng\n",
      "Starting Corridor ca-gh\n",
      "Starting Corridor ca-gh\n",
      "Starting Corridor ca-ug\n",
      "Starting Corridor ca-ug\n",
      "Starting Corridor ca-ke\n",
      "Starting Corridor ca-ke\n",
      "Starting Corridor fr-sn\n",
      "Starting Corridor -\n",
      "Starting Corridor -\n",
      "Starting Corridor it-gh\n",
      "Starting Corridor ie-ke\n",
      "Starting Corridor es-ke\n",
      "Starting Corridor es-tz\n",
      "Starting Corridor it-\n",
      "Starting Corridor us-ng\n",
      "Starting Corridor it-ng\n",
      "Starting Corridor ie-ng\n",
      "Starting Corridor ie-tz\n",
      "Starting Corridor it-ug\n",
      "Starting Corridor es-gh\n",
      "Starting Corridor us-\n",
      "Starting Corridor es-sn\n",
      "Starting Corridor gb-tz\n",
      "Starting Corridor it-ke\n",
      "Starting Corridor it-tz\n",
      "Starting Corridor us-bd\n",
      "Starting Corridor us-ug\n",
      "Starting Corridor us-gh\n",
      "Starting Corridor gb-ug\n",
      "Starting Corridor it-sn\n",
      "Starting Corridor us-ke\n",
      "Starting Corridor us-tz\n",
      "Starting Corridor ie-gh\n",
      "Starting Corridor us-sn\n",
      "The modified system has an impact of 0.0\n",
      "new_approach: 0.0  -  today: 0.0\n"
     ]
    }
   ],
   "source": [
    "data = maxmind.train(reset_lookback=False,\n",
    "                     reset_step=False,\n",
    "                     sample_size=None,\n",
    "                     model_type='TopBottomThreshold',\n",
    "                     repetitions=1000,\n",
    "                     evaluate=True)"
   ]
  },
  {
   "cell_type": "code",
   "execution_count": 14,
   "metadata": {},
   "outputs": [
    {
     "name": "stdout",
     "output_type": "stream",
     "text": [
      "Cost Baseline: -3873321.9999999986    Cost New Approach: -3812477.500000001\n",
      "Impact: 60844.49999999767\n"
     ]
    },
    {
     "data": {
      "text/plain": [
       "<AxesSubplot:xlabel='grp', ylabel='real_result_cost'>"
      ]
     },
     "execution_count": 14,
     "metadata": {},
     "output_type": "execute_result"
    },
    {
     "data": {
      "image/png": "[encoded data removed]",
      "text/plain": [
       "<Figure size 1080x576 with 1 Axes>"
      ]
     },
     "metadata": {
      "needs_background": "light"
     },
     "output_type": "display_data"
    }
   ],
   "source": [
    "maxmind.plot_vs_baseline()"
   ]
  },
  {
   "cell_type": "code",
   "execution_count": 15,
   "metadata": {},
   "outputs": [
    {
     "name": "stdout",
     "output_type": "stream",
     "text": [
      "Total Volume sent to UPS (TP + FP): \n",
      "\t Baseline: 4754  New Approach: 4101\n",
      "The new approach has a decrease of 653 tickets\n",
      "This represents a decrease of 13.735801430374423 percent\n"
     ]
    }
   ],
   "source": [
    "maxmind.stats_volume_vs_baseline()"
   ]
  },
  {
   "cell_type": "code",
   "execution_count": 16,
   "metadata": {},
   "outputs": [
    {
     "name": "stdout",
     "output_type": "stream",
     "text": [
      "Total Fraud Cases Detected (FP): \n",
      "\t Baseline: 2122  New Approach: 1237\n",
      "The new approach has a decrease of 885 False Positives\n",
      "This represents change of 41.70593779453346 percent\n"
     ]
    }
   ],
   "source": [
    "maxmind.stats_fp_vs_baseline()"
   ]
  },
  {
   "cell_type": "code",
   "execution_count": 17,
   "metadata": {},
   "outputs": [
    {
     "name": "stdout",
     "output_type": "stream",
     "text": [
      "Total Fraud Cases Detected (TP): \n",
      "\t Baseline: 2632  New Approach: 2864\n",
      "The new approach has an increase of 232 True Positives\n",
      "This represents change of -8.814589665653495 percent\n"
     ]
    }
   ],
   "source": [
    "maxmind.stats_tp_vs_baseline()"
   ]
  },
  {
   "cell_type": "code",
   "execution_count": 18,
   "metadata": {},
   "outputs": [
    {
     "data": {
      "text/plain": [
       "{'cost_tp': 0, 'cost_fp': -60, 'cost_tn': 0.1, 'cost_fn': -33}"
      ]
     },
     "execution_count": 18,
     "metadata": {},
     "output_type": "execute_result"
    }
   ],
   "source": [
    "volume_based_config"
   ]
  },
  {
   "cell_type": "code",
   "execution_count": 19,
   "metadata": {},
   "outputs": [
    {
     "data": {
      "text/plain": [
       "{'it-ug': {'threshold_top': 89.4, 'threshold_bottom': 75.2},\n",
       " 'gb-ug': {'threshold_top': 79.1, 'threshold_bottom': 73.4},\n",
       " 'ca-ng': {'threshold_top': 99.7, 'threshold_bottom': 42.3},\n",
       " 'it-ke': {'threshold_top': 17.4, 'threshold_bottom': 13.4},\n",
       " 'fr-sn': {'threshold_top': 99.6, 'threshold_bottom': 84.0},\n",
       " 'gb-ke': {'threshold_top': 99.5, 'threshold_bottom': 50.8},\n",
       " 'us-sn': {'threshold_top': 7.4, 'threshold_bottom': 1.3},\n",
       " 'us-ug': {'threshold_top': 99.2, 'threshold_bottom': 72.5},\n",
       " 'ie-gh': {'threshold_top': 89.5, 'threshold_bottom': 84.0},\n",
       " 'it-': {'threshold_top': 18.8, 'threshold_bottom': 2.5},\n",
       " 'es-gh': {'threshold_top': 91.6, 'threshold_bottom': 36.5},\n",
       " 'gb-bd': {'threshold_top': 47.6, 'threshold_bottom': 42.1},\n",
       " 'us-': {'threshold_top': 80.3, 'threshold_bottom': 0.1},\n",
       " 'fr-ng': {'threshold_top': 84.1, 'threshold_bottom': 81.5},\n",
       " 'gb-gh': {'threshold_top': 98.9, 'threshold_bottom': 74.9},\n",
       " 'us-ng': {'threshold_top': 98.6, 'threshold_bottom': 64.3},\n",
       " 'gb-ng': {'threshold_top': 99.5, 'threshold_bottom': 69.0},\n",
       " 'it-sn': {'threshold_top': 99.9, 'threshold_bottom': 84.5},\n",
       " 'us-ke': {'threshold_top': 99.2, 'threshold_bottom': 74.1},\n",
       " 'fr-': {'threshold_top': 99.8, 'threshold_bottom': 63.5},\n",
       " 'us-lr': {'threshold_top': 94.5, 'threshold_bottom': 32.1},\n",
       " 'fr-ke': {'threshold_top': 77.0, 'threshold_bottom': 50.7},\n",
       " 'ie-ke': {'threshold_top': 40.0, 'threshold_bottom': 34.6},\n",
       " 'it-tz': {'threshold_top': 27.1, 'threshold_bottom': 4.2},\n",
       " '-': {'threshold_top': 99.3, 'threshold_bottom': 13.5},\n",
       " 'us-gh': {'threshold_top': 3.9, 'threshold_bottom': 1.1},\n",
       " 'es-sn': {'threshold_top': 81.0, 'threshold_bottom': 18.5},\n",
       " 'ca-ug': {'threshold_top': 98.0, 'threshold_bottom': 60.3},\n",
       " 'ca-tz': {'threshold_top': 99.7, 'threshold_bottom': 19.9},\n",
       " 'it-ng': {'threshold_top': 97.3, 'threshold_bottom': 84.2},\n",
       " 'ca-ke': {'threshold_top': 99.5, 'threshold_bottom': 56.8},\n",
       " 'es-ug': {'threshold_top': 95.3, 'threshold_bottom': 82.2},\n",
       " 'us-bd': {'threshold_top': 91.1, 'threshold_bottom': 2.0},\n",
       " 'it-gh': {'threshold_top': 97.3, 'threshold_bottom': 65.8},\n",
       " 'es-ng': {'threshold_top': 47.6, 'threshold_bottom': 29.6},\n",
       " 'gb-tz': {'threshold_top': 79.2, 'threshold_bottom': 74.8},\n",
       " 'ie-ng': {'threshold_top': 98.2, 'threshold_bottom': 83.9},\n",
       " 'fr-gh': {'threshold_top': 63.7, 'threshold_bottom': 36.4},\n",
       " 'ie-tz': {'threshold_top': 99.2, 'threshold_bottom': 26.1},\n",
       " 'us-tz': {'threshold_top': 99.6, 'threshold_bottom': 49.9},\n",
       " 'es-tz': {'threshold_top': 24.7, 'threshold_bottom': 24.7},\n",
       " 'ca-gh': {'threshold_top': 71.0, 'threshold_bottom': 60.5},\n",
       " 'es-ke': {'threshold_top': 43.4, 'threshold_bottom': 5.2},\n",
       " 'ie-ug': {'threshold_top': 42.9, 'threshold_bottom': 39.7}}"
      ]
     },
     "execution_count": 19,
     "metadata": {},
     "output_type": "execute_result"
    }
   ],
   "source": [
    "maxmind.config['thresholds']"
   ]
  },
  {
   "cell_type": "code",
   "execution_count": null,
   "metadata": {},
   "outputs": [],
   "source": []
  }
 ],
 "metadata": {
  "kernelspec": {
   "display_name": "emaxmind",
   "language": "python",
   "name": "emaxmind"
  },
  "language_info": {
   "codemirror_mode": {
    "name": "ipython",
    "version": 3
   },
   "file_extension": ".py",
   "mimetype": "text/x-python",
   "name": "python",
   "nbconvert_exporter": "python",
   "pygments_lexer": "ipython3",
   "version": "3.8.5"
  }
 },
 "nbformat": 4,
 "nbformat_minor": 4
}
