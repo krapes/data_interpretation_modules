{
 "cells": [
  {
   "cell_type": "code",
   "execution_count": 1,
   "metadata": {},
   "outputs": [],
   "source": [
    "%load_ext autoreload\n",
    "%autoreload 2\n",
    "import sys\n",
    "sys.path.append(\"..\")\n",
    "\n",
    "from src import MaxmindIp\n"
   ]
  },
  {
   "cell_type": "code",
   "execution_count": null,
   "metadata": {},
   "outputs": [
    {
     "name": "stderr",
     "output_type": "stream",
     "text": [
      "/Users/kerrirapes/Documents/Projects/sendwave/analysis/email_maxmind/emaxmind/lib/python3.8/site-packages/IPython/core/interactiveshell.py:3417: DtypeWarning: Columns (4) have mixed types.Specify dtype option on import or set low_memory=False.\n",
      "  exec(code_obj, self.user_global_ns, self.user_ns)\n"
     ]
    },
    {
     "name": "stdout",
     "output_type": "stream",
     "text": [
      "data available: 14628772\n"
     ]
    },
    {
     "name": "stderr",
     "output_type": "stream",
     "text": [
      "INFO:root:Using sample_size 20000\n"
     ]
    },
    {
     "name": "stdout",
     "output_type": "stream",
     "text": [
      "data length: 10440\n",
      "Checking whether there is an H2O instance running at http://localhost:54321 . connected.\n"
     ]
    },
    {
     "data": {
      "text/html": [
       "<div style=\"overflow:auto\"><table style=\"width:50%\"><tr><td>H2O_cluster_uptime:</td>\n",
       "<td>4 mins 29 secs</td></tr>\n",
       "<tr><td>H2O_cluster_timezone:</td>\n",
       "<td>America/Santiago</td></tr>\n",
       "<tr><td>H2O_data_parsing_timezone:</td>\n",
       "<td>UTC</td></tr>\n",
       "<tr><td>H2O_cluster_version:</td>\n",
       "<td>3.32.0.2</td></tr>\n",
       "<tr><td>H2O_cluster_version_age:</td>\n",
       "<td>22 days </td></tr>\n",
       "<tr><td>H2O_cluster_name:</td>\n",
       "<td>H2O_from_python_kerrirapes_2pz6bk</td></tr>\n",
       "<tr><td>H2O_cluster_total_nodes:</td>\n",
       "<td>1</td></tr>\n",
       "<tr><td>H2O_cluster_free_memory:</td>\n",
       "<td>3.910 Gb</td></tr>\n",
       "<tr><td>H2O_cluster_total_cores:</td>\n",
       "<td>16</td></tr>\n",
       "<tr><td>H2O_cluster_allowed_cores:</td>\n",
       "<td>16</td></tr>\n",
       "<tr><td>H2O_cluster_status:</td>\n",
       "<td>locked, healthy</td></tr>\n",
       "<tr><td>H2O_connection_url:</td>\n",
       "<td>http://localhost:54321</td></tr>\n",
       "<tr><td>H2O_connection_proxy:</td>\n",
       "<td>{\"http\": null, \"https\": null}</td></tr>\n",
       "<tr><td>H2O_internal_security:</td>\n",
       "<td>False</td></tr>\n",
       "<tr><td>H2O_API_Extensions:</td>\n",
       "<td>Amazon S3, XGBoost, Algos, AutoML, Core V3, TargetEncoder, Core V4</td></tr>\n",
       "<tr><td>Python_version:</td>\n",
       "<td>3.8.5 final</td></tr></table></div>"
      ],
      "text/plain": [
       "--------------------------  ------------------------------------------------------------------\n",
       "H2O_cluster_uptime:         4 mins 29 secs\n",
       "H2O_cluster_timezone:       America/Santiago\n",
       "H2O_data_parsing_timezone:  UTC\n",
       "H2O_cluster_version:        3.32.0.2\n",
       "H2O_cluster_version_age:    22 days\n",
       "H2O_cluster_name:           H2O_from_python_kerrirapes_2pz6bk\n",
       "H2O_cluster_total_nodes:    1\n",
       "H2O_cluster_free_memory:    3.910 Gb\n",
       "H2O_cluster_total_cores:    16\n",
       "H2O_cluster_allowed_cores:  16\n",
       "H2O_cluster_status:         locked, healthy\n",
       "H2O_connection_url:         http://localhost:54321\n",
       "H2O_connection_proxy:       {\"http\": null, \"https\": null}\n",
       "H2O_internal_security:      False\n",
       "H2O_API_Extensions:         Amazon S3, XGBoost, Algos, AutoML, Core V3, TargetEncoder, Core V4\n",
       "Python_version:             3.8.5 final\n",
       "--------------------------  ------------------------------------------------------------------"
      ]
     },
     "metadata": {},
     "output_type": "display_data"
    },
    {
     "name": "stdout",
     "output_type": "stream",
     "text": [
      "Date: 2020-03-31 00:00:00       Lookback: 270   Step: 90\n"
     ]
    },
    {
     "name": "stderr",
     "output_type": "stream",
     "text": [
      "INFO:root:                                                                       key\n",
      "0                                                     CostMatrixLossMetric\n",
      "1                   Key_Frame__upload_86cc289011dac2e0678c9e923e5b4da8.hex\n",
      "2                   Key_Frame__upload_9250dbf7299bc37280f4fd5df06d4708.hex\n",
      "3                                                                 gbm_grid\n",
      "4                                                         gbm_grid_model_1\n",
      "..                                                                     ...\n",
      "393  modelmetrics_gbm_grid_model_9_cv_3@5351102094423729784_on_gbm_grid...\n",
      "394  modelmetrics_gbm_grid_model_9_cv_3@5351102094423729784_on_gbm_grid...\n",
      "395  modelmetrics_gbm_grid_model_9_cv_3@5351102094423729784_on_null@310...\n",
      "396                 transformation_8029_gbm_grid_model_26_on_py_3_sid_bdda\n",
      "397                 transformation_8055_gbm_grid_model_26_on_py_4_sid_bdda\n",
      "\n",
      "[398 rows x 1 columns]\n",
      "INFO:root:Error while attempting to remove CostMatrixLossMetric\n"
     ]
    },
    {
     "name": "stdout",
     "output_type": "stream",
     "text": [
      "Parse progress: |█████████████████████████████████████████████████████████| 100%\n"
     ]
    },
    {
     "name": "stderr",
     "output_type": "stream",
     "text": [
      "INFO:root:Training Gradient Boosting with cost_matrix_loss_metric\n"
     ]
    },
    {
     "name": "stdout",
     "output_type": "stream",
     "text": [
      "file written\n"
     ]
    },
    {
     "name": "stderr",
     "output_type": "stream",
     "text": [
      "INFO:root:Searching Hyper Parameter Space:\n",
      " {'learn_rate': [0.01, 0.1], 'max_depth': [3, 5, 9], 'sample_rate': [0.8, 1.0], 'col_sample_rate': [0.2, 0.5, 1.0]}\n"
     ]
    },
    {
     "name": "stdout",
     "output_type": "stream",
     "text": [
      "gbm Grid Build progress: |████████████████████████████████████████████████| 100%\n",
      "gbm prediction progress: |████████████████████████████████████████████████| 100%\n",
      "optimum_threshold: 0.48\n",
      "Could not find exact threshold 0.48; using closest threshold found 0.4814445172202271.\n",
      "\n",
      "Confusion Matrix (Act/Pred) @ threshold = 0.4814445172202271: \n"
     ]
    },
    {
     "data": {
      "text/html": [
       "<div>\n",
       "<style scoped>\n",
       "    .dataframe tbody tr th:only-of-type {\n",
       "        vertical-align: middle;\n",
       "    }\n",
       "\n",
       "    .dataframe tbody tr th {\n",
       "        vertical-align: top;\n",
       "    }\n",
       "\n",
       "    .dataframe thead th {\n",
       "        text-align: right;\n",
       "    }\n",
       "</style>\n",
       "<table border=\"1\" class=\"dataframe\">\n",
       "  <thead>\n",
       "    <tr style=\"text-align: right;\">\n",
       "      <th></th>\n",
       "      <th></th>\n",
       "      <th>0</th>\n",
       "      <th>1</th>\n",
       "      <th>Error</th>\n",
       "      <th>Rate</th>\n",
       "    </tr>\n",
       "  </thead>\n",
       "  <tbody>\n",
       "    <tr>\n",
       "      <th>0</th>\n",
       "      <td>0</td>\n",
       "      <td>2560.0</td>\n",
       "      <td>0.0</td>\n",
       "      <td>0.0</td>\n",
       "      <td>(0.0/2560.0)</td>\n",
       "    </tr>\n",
       "    <tr>\n",
       "      <th>1</th>\n",
       "      <td>1</td>\n",
       "      <td>39.0</td>\n",
       "      <td>27.0</td>\n",
       "      <td>0.5909</td>\n",
       "      <td>(39.0/66.0)</td>\n",
       "    </tr>\n",
       "    <tr>\n",
       "      <th>2</th>\n",
       "      <td>Total</td>\n",
       "      <td>2599.0</td>\n",
       "      <td>27.0</td>\n",
       "      <td>0.0149</td>\n",
       "      <td>(39.0/2626.0)</td>\n",
       "    </tr>\n",
       "  </tbody>\n",
       "</table>\n",
       "</div>"
      ],
      "text/plain": [
       "               0     1   Error            Rate\n",
       "0      0  2560.0   0.0     0.0    (0.0/2560.0)\n",
       "1      1    39.0  27.0  0.5909     (39.0/66.0)\n",
       "2  Total  2599.0  27.0  0.0149   (39.0/2626.0)"
      ]
     },
     "metadata": {},
     "output_type": "display_data"
    },
    {
     "name": "stdout",
     "output_type": "stream",
     "text": [
      "\n",
      "Parse progress: |█████████████████████████████████████████████████████████| 100%\n",
      "gbm prediction progress: |████████████████████████████████████████████████| 100%\n",
      "The modified system has an impact of 870.5\n",
      "new_approach: -5324.800000000001  -  today: -6195.3\n",
      "Date: 2020-06-29 00:00:00       Lookback: 270   Step: 90\n"
     ]
    },
    {
     "name": "stderr",
     "output_type": "stream",
     "text": [
      "INFO:root:                                                                       key\n",
      "0                                                     CostMatrixLossMetric\n",
      "1                   Key_Frame__upload_a1b3d7eef07ea39936bbf824cad14387.hex\n",
      "2                    Key_Frame__upload_b9e1608a7aef0f8039c4fee86db4e49.hex\n",
      "3                                                                 gbm_grid\n",
      "4                                                         gbm_grid_model_1\n",
      "..                                                                     ...\n",
      "435  modelmetrics_gbm_grid_model_9_cv_3@-7625891318162936544_on_gbm_gri...\n",
      "436  modelmetrics_gbm_grid_model_9_cv_3@-7625891318162936544_on_gbm_gri...\n",
      "437  modelmetrics_gbm_grid_model_9_cv_3@-7625891318162936544_on_null@35...\n",
      "438                  transformation_8b19_gbm_grid_model_6_on_py_9_sid_9e48\n",
      "439                  transformation_a126_gbm_grid_model_6_on_py_8_sid_9e48\n",
      "\n",
      "[440 rows x 1 columns]\n",
      "INFO:root:Error while attempting to remove CostMatrixLossMetric\n"
     ]
    },
    {
     "name": "stdout",
     "output_type": "stream",
     "text": [
      "Parse progress: |█████████████████████████████████████████████████████████| 100%\n"
     ]
    },
    {
     "name": "stderr",
     "output_type": "stream",
     "text": [
      "INFO:root:Training Gradient Boosting with cost_matrix_loss_metric\n"
     ]
    },
    {
     "name": "stdout",
     "output_type": "stream",
     "text": [
      "file written\n"
     ]
    },
    {
     "name": "stderr",
     "output_type": "stream",
     "text": [
      "INFO:root:Searching Hyper Parameter Space:\n",
      " {'learn_rate': [0.01, 0.1], 'max_depth': [3, 5, 9], 'sample_rate': [0.8, 1.0], 'col_sample_rate': [0.2, 0.5, 1.0]}\n"
     ]
    },
    {
     "name": "stdout",
     "output_type": "stream",
     "text": [
      "gbm Grid Build progress: |████████████████████████████████████████████████| 100%\n",
      "gbm prediction progress: |████████████████████████████████████████████████| 100%\n",
      "optimum_threshold: 0.57\n",
      "Could not find exact threshold 0.57; using closest threshold found 0.5701715365997995.\n",
      "\n",
      "Confusion Matrix (Act/Pred) @ threshold = 0.5701715365997995: \n"
     ]
    },
    {
     "data": {
      "text/html": [
       "<div>\n",
       "<style scoped>\n",
       "    .dataframe tbody tr th:only-of-type {\n",
       "        vertical-align: middle;\n",
       "    }\n",
       "\n",
       "    .dataframe tbody tr th {\n",
       "        vertical-align: top;\n",
       "    }\n",
       "\n",
       "    .dataframe thead th {\n",
       "        text-align: right;\n",
       "    }\n",
       "</style>\n",
       "<table border=\"1\" class=\"dataframe\">\n",
       "  <thead>\n",
       "    <tr style=\"text-align: right;\">\n",
       "      <th></th>\n",
       "      <th></th>\n",
       "      <th>0</th>\n",
       "      <th>1</th>\n",
       "      <th>Error</th>\n",
       "      <th>Rate</th>\n",
       "    </tr>\n",
       "  </thead>\n",
       "  <tbody>\n",
       "    <tr>\n",
       "      <th>0</th>\n",
       "      <td>0</td>\n",
       "      <td>4468.0</td>\n",
       "      <td>1.0</td>\n",
       "      <td>0.0002</td>\n",
       "      <td>(1.0/4469.0)</td>\n",
       "    </tr>\n",
       "    <tr>\n",
       "      <th>1</th>\n",
       "      <td>1</td>\n",
       "      <td>157.0</td>\n",
       "      <td>19.0</td>\n",
       "      <td>0.892</td>\n",
       "      <td>(157.0/176.0)</td>\n",
       "    </tr>\n",
       "    <tr>\n",
       "      <th>2</th>\n",
       "      <td>Total</td>\n",
       "      <td>4625.0</td>\n",
       "      <td>20.0</td>\n",
       "      <td>0.034</td>\n",
       "      <td>(158.0/4645.0)</td>\n",
       "    </tr>\n",
       "  </tbody>\n",
       "</table>\n",
       "</div>"
      ],
      "text/plain": [
       "               0     1   Error             Rate\n",
       "0      0  4468.0   1.0  0.0002     (1.0/4469.0)\n",
       "1      1   157.0  19.0   0.892    (157.0/176.0)\n",
       "2  Total  4625.0  20.0   0.034   (158.0/4645.0)"
      ]
     },
     "metadata": {},
     "output_type": "display_data"
    },
    {
     "name": "stdout",
     "output_type": "stream",
     "text": [
      "\n",
      "Parse progress: |█████████████████████████████████████████████████████████| 100%\n",
      "gbm prediction progress: |████████████████████████████████████████████████| 100%\n",
      "The modified system has an impact of 555.3\n",
      "new_approach: -5067.8  -  today: -5623.1\n",
      "Date: 2020-09-27 00:00:00       Lookback: 270   Step: 90\n"
     ]
    },
    {
     "name": "stderr",
     "output_type": "stream",
     "text": [
      "INFO:root:                                                                       key\n",
      "0                                                     CostMatrixLossMetric\n",
      "1                   Key_Frame__upload_a9779e94d5cb6f282f3d347beb8142eb.hex\n",
      "2                     Key_Frame__upload_b014f12e78aef3ce3358a45ba54dbd.hex\n",
      "3                                                                 gbm_grid\n",
      "4                                                         gbm_grid_model_1\n",
      "..                                                                     ...\n",
      "281  modelmetrics_gbm_grid_model_9_cv_3@-5695426019703041520_on_gbm_gri...\n",
      "282  modelmetrics_gbm_grid_model_9_cv_3@-5695426019703041520_on_gbm_gri...\n",
      "283  modelmetrics_gbm_grid_model_9_cv_3@-5695426019703041520_on_null@-4...\n",
      "284                transformation_8efb_gbm_grid_model_16_on_py_12_sid_9e48\n",
      "285                transformation_a773_gbm_grid_model_16_on_py_13_sid_9e48\n",
      "\n",
      "[286 rows x 1 columns]\n",
      "INFO:root:Error while attempting to remove CostMatrixLossMetric\n"
     ]
    },
    {
     "name": "stdout",
     "output_type": "stream",
     "text": [
      "Parse progress: |█████████████████████████████████████████████████████████| 100%\n"
     ]
    },
    {
     "name": "stderr",
     "output_type": "stream",
     "text": [
      "INFO:root:Training Gradient Boosting with cost_matrix_loss_metric\n"
     ]
    },
    {
     "name": "stdout",
     "output_type": "stream",
     "text": [
      "file written\n"
     ]
    },
    {
     "name": "stderr",
     "output_type": "stream",
     "text": [
      "INFO:root:Searching Hyper Parameter Space:\n",
      " {'learn_rate': [0.01, 0.1], 'max_depth': [3, 5, 9], 'sample_rate': [0.8, 1.0], 'col_sample_rate': [0.2, 0.5, 1.0]}\n"
     ]
    },
    {
     "name": "stdout",
     "output_type": "stream",
     "text": [
      "gbm Grid Build progress: |████████████████████████████████████████████████| 100%\n",
      "gbm prediction progress: |████████████████████████████████████████████████| 100%\n",
      "optimum_threshold: 0.29\n",
      "Could not find exact threshold 0.29; using closest threshold found 0.2827653249529909.\n",
      "\n",
      "Confusion Matrix (Act/Pred) @ threshold = 0.2827653249529909: \n"
     ]
    },
    {
     "data": {
      "text/html": [
       "<div>\n",
       "<style scoped>\n",
       "    .dataframe tbody tr th:only-of-type {\n",
       "        vertical-align: middle;\n",
       "    }\n",
       "\n",
       "    .dataframe tbody tr th {\n",
       "        vertical-align: top;\n",
       "    }\n",
       "\n",
       "    .dataframe thead th {\n",
       "        text-align: right;\n",
       "    }\n",
       "</style>\n",
       "<table border=\"1\" class=\"dataframe\">\n",
       "  <thead>\n",
       "    <tr style=\"text-align: right;\">\n",
       "      <th></th>\n",
       "      <th></th>\n",
       "      <th>0</th>\n",
       "      <th>1</th>\n",
       "      <th>Error</th>\n",
       "      <th>Rate</th>\n",
       "    </tr>\n",
       "  </thead>\n",
       "  <tbody>\n",
       "    <tr>\n",
       "      <th>0</th>\n",
       "      <td>0</td>\n",
       "      <td>5237.0</td>\n",
       "      <td>2.0</td>\n",
       "      <td>0.0004</td>\n",
       "      <td>(2.0/5239.0)</td>\n",
       "    </tr>\n",
       "    <tr>\n",
       "      <th>1</th>\n",
       "      <td>1</td>\n",
       "      <td>220.0</td>\n",
       "      <td>9.0</td>\n",
       "      <td>0.9607</td>\n",
       "      <td>(220.0/229.0)</td>\n",
       "    </tr>\n",
       "    <tr>\n",
       "      <th>2</th>\n",
       "      <td>Total</td>\n",
       "      <td>5457.0</td>\n",
       "      <td>11.0</td>\n",
       "      <td>0.0406</td>\n",
       "      <td>(222.0/5468.0)</td>\n",
       "    </tr>\n",
       "  </tbody>\n",
       "</table>\n",
       "</div>"
      ],
      "text/plain": [
       "               0     1   Error             Rate\n",
       "0      0  5237.0   2.0  0.0004     (2.0/5239.0)\n",
       "1      1   220.0   9.0  0.9607    (220.0/229.0)\n",
       "2  Total  5457.0  11.0  0.0406   (222.0/5468.0)"
      ]
     },
     "metadata": {},
     "output_type": "display_data"
    },
    {
     "name": "stdout",
     "output_type": "stream",
     "text": [
      "\n",
      "Parse progress: |█████████████████████████████████████████████████████████| 100%\n",
      "gbm prediction progress: |████████████████████████████████████████████████| 100%\n",
      "The modified system has an impact of 0.0\n",
      "new_approach: 0.0  -  today: 0.0\n"
     ]
    },
    {
     "name": "stderr",
     "output_type": "stream",
     "text": [
      "INFO:root:                                                                       key\n",
      "0                                                     CostMatrixLossMetric\n",
      "1                   Key_Frame__upload_8e9a561a1b52af047d9e22ffb1a74bd7.hex\n",
      "2                   Key_Frame__upload_b677098059c4cf5234b32afd5a2548b4.hex\n",
      "3                                                                 gbm_grid\n",
      "4                                                         gbm_grid_model_1\n",
      "..                                                                     ...\n",
      "226  modelmetrics_gbm_grid_model_9_cv_3@-6903848555224590496_on_gbm_gri...\n",
      "227  modelmetrics_gbm_grid_model_9_cv_3@-6903848555224590496_on_null@19...\n",
      "228                                                         py_17_sid_9e48\n",
      "229                transformation_9c59_gbm_grid_model_14_on_py_17_sid_9e48\n",
      "230                transformation_a3ad_gbm_grid_model_14_on_py_16_sid_9e48\n",
      "\n",
      "[231 rows x 1 columns]\n",
      "INFO:root:Error while attempting to remove CostMatrixLossMetric\n"
     ]
    },
    {
     "name": "stdout",
     "output_type": "stream",
     "text": [
      "Parse progress: |█████████████████████████████████████████████████████████| 100%\n"
     ]
    },
    {
     "name": "stderr",
     "output_type": "stream",
     "text": [
      "INFO:root:Training Gradient Boosting with cost_matrix_loss_metric\n"
     ]
    },
    {
     "name": "stdout",
     "output_type": "stream",
     "text": [
      "file written\n"
     ]
    },
    {
     "name": "stderr",
     "output_type": "stream",
     "text": [
      "INFO:root:Searching Hyper Parameter Space:\n",
      " {'learn_rate': [0.01, 0.1], 'max_depth': [3, 5, 9], 'sample_rate': [0.8, 1.0], 'col_sample_rate': [0.2, 0.5, 1.0]}\n"
     ]
    },
    {
     "name": "stdout",
     "output_type": "stream",
     "text": [
      "gbm Grid Build progress: |███████████████████████████████████"
     ]
    }
   ],
   "source": [
    "\n",
    "\n",
    "maxmind = MaxmindIp()\n",
    "maxmind.config['step'] = 90\n",
    "maxmind.config['costs']['cost_fp'] = -240\n",
    "data = maxmind.train(reset_lookback=False,\n",
    "                     reset_step=False,\n",
    "                     sample_size=20000,\n",
    "                     model_type='GradientBoosting',\n",
    "                     cost_matrix_loss_metric=True,\n",
    "                     repetitions=700,\n",
    "                     evaluate=True)"
   ]
  },
  {
   "cell_type": "code",
   "execution_count": null,
   "metadata": {},
   "outputs": [],
   "source": [
    "maxmind.plot_vs_baseline()"
   ]
  },
  {
   "cell_type": "code",
   "execution_count": null,
   "metadata": {},
   "outputs": [],
   "source": [
    "maxmind.stats_volume_vs_baseline()"
   ]
  },
  {
   "cell_type": "code",
   "execution_count": null,
   "metadata": {},
   "outputs": [],
   "source": [
    "maxmind.stats_fp_vs_baseline()"
   ]
  },
  {
   "cell_type": "code",
   "execution_count": null,
   "metadata": {},
   "outputs": [],
   "source": [
    "maxmind.stats_tp_vs_baseline()"
   ]
  },
  {
   "cell_type": "code",
   "execution_count": null,
   "metadata": {},
   "outputs": [],
   "source": [
    "maxmind.cost_impact()"
   ]
  },
  {
   "cell_type": "code",
   "execution_count": null,
   "metadata": {},
   "outputs": [],
   "source": []
  }
 ],
 "metadata": {
  "kernelspec": {
   "display_name": "emaxmind",
   "language": "python",
   "name": "emaxmind"
  },
  "language_info": {
   "codemirror_mode": {
    "name": "ipython",
    "version": 3
   },
   "file_extension": ".py",
   "mimetype": "text/x-python",
   "name": "python",
   "nbconvert_exporter": "python",
   "pygments_lexer": "ipython3",
   "version": "3.8.5"
  }
 },
 "nbformat": 4,
 "nbformat_minor": 4
}
