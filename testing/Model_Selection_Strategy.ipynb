{
 "cells": [
  {
   "cell_type": "code",
   "execution_count": 1,
   "metadata": {},
   "outputs": [
    {
     "name": "stdout",
     "output_type": "stream",
     "text": [
      "18000 6000 1500\n"
     ]
    }
   ],
   "source": [
    "import sys\n",
    "sys.path.append(\"..\")\n",
    "\n",
    "from src import MaxmindIp\n",
    "from helpers import function_time\n",
    "\n",
    "\n",
    "TOTAL_TIME = 5*60*60\n",
    "SECTION_TIME = int(TOTAL_TIME / 3)\n",
    "SEARCH_TIME = int(SECTION_TIME / 4)\n",
    "print(TOTAL_TIME, SECTION_TIME, SEARCH_TIME)"
   ]
  },
  {
   "cell_type": "code",
   "execution_count": 2,
   "metadata": {},
   "outputs": [],
   "source": [
    "ip = '3.230.115.163'\n",
    "password = 'i-0f0252857048d9cb8'"
   ]
  },
  {
   "cell_type": "code",
   "execution_count": 3,
   "metadata": {},
   "outputs": [],
   "source": [
    "permutations = {'trial_1': {'model_type': 'AutoML', 'cost_matrix_loss_metric': False},\n",
    "                'trial_2': {'model_type': 'GradientBoosting', 'cost_matrix_loss_metric': False},\n",
    "                'trial_3': {'model_type': 'GradientBoosting', 'cost_matrix_loss_metric': True}}"
   ]
  },
  {
   "cell_type": "code",
   "execution_count": 4,
   "metadata": {
    "scrolled": false
   },
   "outputs": [
    {
     "data": {
      "text/plain": [
       "\"\\ntrial = permutations['trial_1']\\nprint(trial)\\n\\nmaxmind = MaxmindIp(ip=ip,\\n                    username='h2o',\\n                    password=password,\\n                    port=54321)\\nmaxmind.config['step'] = 90\\ndata = maxmind.train(reset_lookback=False,\\n                     reset_step=False,\\n                     sample_size=None,\\n                     model_type=trial['model_type'],\\n                     cost_matrix_loss_metric=trial['cost_matrix_loss_metric'],\\n                     search_time=60*2,\\n                     evaluate=True)\\n\\nvolume_based_config = maxmind.configure_volume_equals_baseline(search_time=-1)\\n\""
      ]
     },
     "execution_count": 4,
     "metadata": {},
     "output_type": "execute_result"
    }
   ],
   "source": [
    "'''\n",
    "trial = permutations['trial_1']\n",
    "print(trial)\n",
    "\n",
    "maxmind = MaxmindIp(ip=ip,\n",
    "                    username='h2o',\n",
    "                    password=password,\n",
    "                    port=54321)\n",
    "maxmind.config['step'] = 90\n",
    "data = maxmind.train(reset_lookback=False,\n",
    "                     reset_step=False,\n",
    "                     sample_size=None,\n",
    "                     model_type=trial['model_type'],\n",
    "                     cost_matrix_loss_metric=trial['cost_matrix_loss_metric'],\n",
    "                     search_time=60*2,\n",
    "                     evaluate=True)\n",
    "\n",
    "volume_based_config = maxmind.configure_volume_equals_baseline(search_time=-1)\n",
    "'''"
   ]
  },
  {
   "cell_type": "code",
   "execution_count": 5,
   "metadata": {},
   "outputs": [],
   "source": [
    "volume_based_config = {'cost_tp': 0, 'cost_fp': -60, 'cost_tn': 0.1, 'cost_fn': -213.3333333333333}"
   ]
  },
  {
   "cell_type": "code",
   "execution_count": 6,
   "metadata": {
    "scrolled": false
   },
   "outputs": [
    {
     "name": "stdout",
     "output_type": "stream",
     "text": [
      "{'model_type': 'AutoML', 'cost_matrix_loss_metric': False}\n"
     ]
    },
    {
     "name": "stderr",
     "output_type": "stream",
     "text": [
      "/Users/kerrirapes/Documents/Projects/sendwave/analysis/email_maxmind/emaxmind/lib/python3.8/site-packages/IPython/core/interactiveshell.py:3417: DtypeWarning: Columns (4) have mixed types.Specify dtype option on import or set low_memory=False.\n",
      "  exec(code_obj, self.user_global_ns, self.user_ns)\n"
     ]
    },
    {
     "name": "stdout",
     "output_type": "stream",
     "text": [
      "data available: 14628772\n",
      "data length: 14628772\n",
      "Checking whether there is an H2O instance running at http://3.230.115.163:54321 . connected.\n"
     ]
    },
    {
     "data": {
      "text/html": [
       "<div style=\"overflow:auto\"><table style=\"width:50%\"><tr><td>H2O_cluster_uptime:</td>\n",
       "<td>3 mins 14 secs</td></tr>\n",
       "<tr><td>H2O_cluster_timezone:</td>\n",
       "<td>Etc/UTC</td></tr>\n",
       "<tr><td>H2O_data_parsing_timezone:</td>\n",
       "<td>UTC</td></tr>\n",
       "<tr><td>H2O_cluster_version:</td>\n",
       "<td>3.32.0.2</td></tr>\n",
       "<tr><td>H2O_cluster_version_age:</td>\n",
       "<td>7 days, 19 hours and 57 minutes </td></tr>\n",
       "<tr><td>H2O_cluster_name:</td>\n",
       "<td>root</td></tr>\n",
       "<tr><td>H2O_cluster_total_nodes:</td>\n",
       "<td>1</td></tr>\n",
       "<tr><td>H2O_cluster_free_memory:</td>\n",
       "<td>46.30 Gb</td></tr>\n",
       "<tr><td>H2O_cluster_total_cores:</td>\n",
       "<td>36</td></tr>\n",
       "<tr><td>H2O_cluster_allowed_cores:</td>\n",
       "<td>36</td></tr>\n",
       "<tr><td>H2O_cluster_status:</td>\n",
       "<td>accepting new members, healthy</td></tr>\n",
       "<tr><td>H2O_connection_url:</td>\n",
       "<td>http://3.230.115.163:54321</td></tr>\n",
       "<tr><td>H2O_connection_proxy:</td>\n",
       "<td>null</td></tr>\n",
       "<tr><td>H2O_internal_security:</td>\n",
       "<td>False</td></tr>\n",
       "<tr><td>H2O_API_Extensions:</td>\n",
       "<td>Amazon S3, XGBoost, Algos, AutoML, Core V3, TargetEncoder, Core V4</td></tr>\n",
       "<tr><td>Python_version:</td>\n",
       "<td>3.8.5 final</td></tr></table></div>"
      ],
      "text/plain": [
       "--------------------------  ------------------------------------------------------------------\n",
       "H2O_cluster_uptime:         3 mins 14 secs\n",
       "H2O_cluster_timezone:       Etc/UTC\n",
       "H2O_data_parsing_timezone:  UTC\n",
       "H2O_cluster_version:        3.32.0.2\n",
       "H2O_cluster_version_age:    7 days, 19 hours and 57 minutes\n",
       "H2O_cluster_name:           root\n",
       "H2O_cluster_total_nodes:    1\n",
       "H2O_cluster_free_memory:    46.30 Gb\n",
       "H2O_cluster_total_cores:    36\n",
       "H2O_cluster_allowed_cores:  36\n",
       "H2O_cluster_status:         accepting new members, healthy\n",
       "H2O_connection_url:         http://3.230.115.163:54321\n",
       "H2O_connection_proxy:       null\n",
       "H2O_internal_security:      False\n",
       "H2O_API_Extensions:         Amazon S3, XGBoost, Algos, AutoML, Core V3, TargetEncoder, Core V4\n",
       "Python_version:             3.8.5 final\n",
       "--------------------------  ------------------------------------------------------------------"
      ]
     },
     "metadata": {},
     "output_type": "display_data"
    },
    {
     "name": "stdout",
     "output_type": "stream",
     "text": [
      "Date: 2020-03-31 00:00:00       Lookback: 270   Step: 90\n",
      "Parse progress: |█████████████████████████████████████████████████████████| 100%\n"
     ]
    },
    {
     "name": "stderr",
     "output_type": "stream",
     "text": [
      "INFO:root:Training AutoML\n"
     ]
    },
    {
     "name": "stdout",
     "output_type": "stream",
     "text": [
      "AutoML progress: |████████████████████████████████████████████████████████| 100%\n",
      "xgboost prediction progress: |████████████████████████████████████████████| 100%\n",
      "optimum_threshold: 0.22\n",
      "Could not find exact threshold 0.22; using closest threshold found 0.21906604763999513.\n",
      "\n",
      "Confusion Matrix (Act/Pred) @ threshold = 0.21906604763999513: \n"
     ]
    },
    {
     "data": {
      "text/html": [
       "<div>\n",
       "<style scoped>\n",
       "    .dataframe tbody tr th:only-of-type {\n",
       "        vertical-align: middle;\n",
       "    }\n",
       "\n",
       "    .dataframe tbody tr th {\n",
       "        vertical-align: top;\n",
       "    }\n",
       "\n",
       "    .dataframe thead th {\n",
       "        text-align: right;\n",
       "    }\n",
       "</style>\n",
       "<table border=\"1\" class=\"dataframe\">\n",
       "  <thead>\n",
       "    <tr style=\"text-align: right;\">\n",
       "      <th></th>\n",
       "      <th></th>\n",
       "      <th>0</th>\n",
       "      <th>1</th>\n",
       "      <th>Error</th>\n",
       "      <th>Rate</th>\n",
       "    </tr>\n",
       "  </thead>\n",
       "  <tbody>\n",
       "    <tr>\n",
       "      <th>0</th>\n",
       "      <td>0</td>\n",
       "      <td>1861986.0</td>\n",
       "      <td>41653.0</td>\n",
       "      <td>0.0219</td>\n",
       "      <td>(41653.0/1903639.0)</td>\n",
       "    </tr>\n",
       "    <tr>\n",
       "      <th>1</th>\n",
       "      <td>1</td>\n",
       "      <td>37579.0</td>\n",
       "      <td>20671.0</td>\n",
       "      <td>0.6451</td>\n",
       "      <td>(37579.0/58250.0)</td>\n",
       "    </tr>\n",
       "    <tr>\n",
       "      <th>2</th>\n",
       "      <td>Total</td>\n",
       "      <td>1899565.0</td>\n",
       "      <td>62324.0</td>\n",
       "      <td>0.0404</td>\n",
       "      <td>(79232.0/1961889.0)</td>\n",
       "    </tr>\n",
       "  </tbody>\n",
       "</table>\n",
       "</div>"
      ],
      "text/plain": [
       "                  0        1   Error                  Rate\n",
       "0      0  1861986.0  41653.0  0.0219   (41653.0/1903639.0)\n",
       "1      1    37579.0  20671.0  0.6451     (37579.0/58250.0)\n",
       "2  Total  1899565.0  62324.0  0.0404   (79232.0/1961889.0)"
      ]
     },
     "metadata": {},
     "output_type": "display_data"
    },
    {
     "name": "stdout",
     "output_type": "stream",
     "text": [
      "\n",
      "Parse progress: |█████████████████████████████████████████████████████████| 100%\n",
      "xgboost prediction progress: |████████████████████████████████████████████| 100%\n",
      "The modified system has an impact of -1610874.63\n",
      "new_approach: -38543630.066666655  -  today: -36932755.43333337\n",
      "Date: 2020-06-29 00:00:00       Lookback: 270   Step: 90\n",
      "Parse progress: |█████████████████████████████████████████████████████████| 100%\n"
     ]
    },
    {
     "name": "stderr",
     "output_type": "stream",
     "text": [
      "INFO:root:Training AutoML\n"
     ]
    },
    {
     "name": "stdout",
     "output_type": "stream",
     "text": [
      "AutoML progress: |████████████████████████████████████████████████████████| 100%\n",
      "drf prediction progress: |████████████████████████████████████████████████| 100%\n",
      "optimum_threshold: 0.23\n",
      "Could not find exact threshold 0.23; using closest threshold found 0.23032207924461248.\n",
      "\n",
      "Confusion Matrix (Act/Pred) @ threshold = 0.23032207924461248: \n"
     ]
    },
    {
     "data": {
      "text/html": [
       "<div>\n",
       "<style scoped>\n",
       "    .dataframe tbody tr th:only-of-type {\n",
       "        vertical-align: middle;\n",
       "    }\n",
       "\n",
       "    .dataframe tbody tr th {\n",
       "        vertical-align: top;\n",
       "    }\n",
       "\n",
       "    .dataframe thead th {\n",
       "        text-align: right;\n",
       "    }\n",
       "</style>\n",
       "<table border=\"1\" class=\"dataframe\">\n",
       "  <thead>\n",
       "    <tr style=\"text-align: right;\">\n",
       "      <th></th>\n",
       "      <th></th>\n",
       "      <th>0</th>\n",
       "      <th>1</th>\n",
       "      <th>Error</th>\n",
       "      <th>Rate</th>\n",
       "    </tr>\n",
       "  </thead>\n",
       "  <tbody>\n",
       "    <tr>\n",
       "      <th>0</th>\n",
       "      <td>0</td>\n",
       "      <td>3084864.0</td>\n",
       "      <td>83675.0</td>\n",
       "      <td>0.0264</td>\n",
       "      <td>(83675.0/3168539.0)</td>\n",
       "    </tr>\n",
       "    <tr>\n",
       "      <th>1</th>\n",
       "      <td>1</td>\n",
       "      <td>90717.0</td>\n",
       "      <td>39304.0</td>\n",
       "      <td>0.6977</td>\n",
       "      <td>(90717.0/130021.0)</td>\n",
       "    </tr>\n",
       "    <tr>\n",
       "      <th>2</th>\n",
       "      <td>Total</td>\n",
       "      <td>3175581.0</td>\n",
       "      <td>122979.0</td>\n",
       "      <td>0.0529</td>\n",
       "      <td>(174392.0/3298560.0)</td>\n",
       "    </tr>\n",
       "  </tbody>\n",
       "</table>\n",
       "</div>"
      ],
      "text/plain": [
       "                  0         1   Error                   Rate\n",
       "0      0  3084864.0   83675.0  0.0264    (83675.0/3168539.0)\n",
       "1      1    90717.0   39304.0  0.6977     (90717.0/130021.0)\n",
       "2  Total  3175581.0  122979.0  0.0529   (174392.0/3298560.0)"
      ]
     },
     "metadata": {},
     "output_type": "display_data"
    },
    {
     "name": "stdout",
     "output_type": "stream",
     "text": [
      "\n",
      "Parse progress: |█████████████████████████████████████████████████████████| 100%\n",
      "drf prediction progress: |████████████████████████████████████████████████| 100%\n",
      "The modified system has an impact of -2052234.2\n",
      "new_approach: -41580004.63333325  -  today: -39527770.43333328\n",
      "Date: 2020-09-27 00:00:00       Lookback: 270   Step: 90\n",
      "Parse progress: |█████████████████████████████████████████████████████████| 100%\n"
     ]
    },
    {
     "name": "stderr",
     "output_type": "stream",
     "text": [
      "INFO:root:Training AutoML\n"
     ]
    },
    {
     "name": "stdout",
     "output_type": "stream",
     "text": [
      "AutoML progress: |████████████████████████████████████████████████████████| 100%\n",
      "stackedensemble prediction progress: |████████████████████████████████████| 100%\n",
      "optimum_threshold: 0.18\n",
      "Could not find exact threshold 0.18; using closest threshold found 0.1799786438318836.\n",
      "\n",
      "Confusion Matrix (Act/Pred) @ threshold = 0.1799786438318836: \n"
     ]
    },
    {
     "data": {
      "text/html": [
       "<div>\n",
       "<style scoped>\n",
       "    .dataframe tbody tr th:only-of-type {\n",
       "        vertical-align: middle;\n",
       "    }\n",
       "\n",
       "    .dataframe tbody tr th {\n",
       "        vertical-align: top;\n",
       "    }\n",
       "\n",
       "    .dataframe thead th {\n",
       "        text-align: right;\n",
       "    }\n",
       "</style>\n",
       "<table border=\"1\" class=\"dataframe\">\n",
       "  <thead>\n",
       "    <tr style=\"text-align: right;\">\n",
       "      <th></th>\n",
       "      <th></th>\n",
       "      <th>0</th>\n",
       "      <th>1</th>\n",
       "      <th>Error</th>\n",
       "      <th>Rate</th>\n",
       "    </tr>\n",
       "  </thead>\n",
       "  <tbody>\n",
       "    <tr>\n",
       "      <th>0</th>\n",
       "      <td>0</td>\n",
       "      <td>9461.0</td>\n",
       "      <td>126.0</td>\n",
       "      <td>0.0131</td>\n",
       "      <td>(126.0/9587.0)</td>\n",
       "    </tr>\n",
       "    <tr>\n",
       "      <th>1</th>\n",
       "      <td>1</td>\n",
       "      <td>372.0</td>\n",
       "      <td>82.0</td>\n",
       "      <td>0.8194</td>\n",
       "      <td>(372.0/454.0)</td>\n",
       "    </tr>\n",
       "    <tr>\n",
       "      <th>2</th>\n",
       "      <td>Total</td>\n",
       "      <td>9833.0</td>\n",
       "      <td>208.0</td>\n",
       "      <td>0.0496</td>\n",
       "      <td>(498.0/10041.0)</td>\n",
       "    </tr>\n",
       "  </tbody>\n",
       "</table>\n",
       "</div>"
      ],
      "text/plain": [
       "               0      1   Error              Rate\n",
       "0      0  9461.0  126.0  0.0131    (126.0/9587.0)\n",
       "1      1   372.0   82.0  0.8194     (372.0/454.0)\n",
       "2  Total  9833.0  208.0  0.0496   (498.0/10041.0)"
      ]
     },
     "metadata": {},
     "output_type": "display_data"
    },
    {
     "name": "stdout",
     "output_type": "stream",
     "text": [
      "\n",
      "Parse progress: |█████████████████████████████████████████████████████████| 100%\n",
      "stackedensemble prediction progress: |████████████████████████████████████| 100%\n",
      "The modified system has an impact of 0.0\n",
      "new_approach: 0.0  -  today: 0.0\n",
      "Parse progress: |█████████████████████████████████████████████████████████| 100%\n"
     ]
    },
    {
     "name": "stderr",
     "output_type": "stream",
     "text": [
      "INFO:root:Training AutoML\n"
     ]
    },
    {
     "name": "stdout",
     "output_type": "stream",
     "text": [
      "AutoML progress: |████████████████████████████████████████████████████████| 100%\n",
      "stackedensemble prediction progress: |████████████████████████████████████| 100%\n",
      "optimum_threshold: 0.22\n",
      "Could not find exact threshold 0.22; using closest threshold found 0.21940638831316317.\n",
      "\n",
      "Confusion Matrix (Act/Pred) @ threshold = 0.21940638831316317: \n"
     ]
    },
    {
     "data": {
      "text/html": [
       "<div>\n",
       "<style scoped>\n",
       "    .dataframe tbody tr th:only-of-type {\n",
       "        vertical-align: middle;\n",
       "    }\n",
       "\n",
       "    .dataframe tbody tr th {\n",
       "        vertical-align: top;\n",
       "    }\n",
       "\n",
       "    .dataframe thead th {\n",
       "        text-align: right;\n",
       "    }\n",
       "</style>\n",
       "<table border=\"1\" class=\"dataframe\">\n",
       "  <thead>\n",
       "    <tr style=\"text-align: right;\">\n",
       "      <th></th>\n",
       "      <th></th>\n",
       "      <th>0</th>\n",
       "      <th>1</th>\n",
       "      <th>Error</th>\n",
       "      <th>Rate</th>\n",
       "    </tr>\n",
       "  </thead>\n",
       "  <tbody>\n",
       "    <tr>\n",
       "      <th>0</th>\n",
       "      <td>0</td>\n",
       "      <td>9520.0</td>\n",
       "      <td>121.0</td>\n",
       "      <td>0.0126</td>\n",
       "      <td>(121.0/9641.0)</td>\n",
       "    </tr>\n",
       "    <tr>\n",
       "      <th>1</th>\n",
       "      <td>1</td>\n",
       "      <td>338.0</td>\n",
       "      <td>62.0</td>\n",
       "      <td>0.845</td>\n",
       "      <td>(338.0/400.0)</td>\n",
       "    </tr>\n",
       "    <tr>\n",
       "      <th>2</th>\n",
       "      <td>Total</td>\n",
       "      <td>9858.0</td>\n",
       "      <td>183.0</td>\n",
       "      <td>0.0457</td>\n",
       "      <td>(459.0/10041.0)</td>\n",
       "    </tr>\n",
       "  </tbody>\n",
       "</table>\n",
       "</div>"
      ],
      "text/plain": [
       "               0      1   Error              Rate\n",
       "0      0  9520.0  121.0  0.0126    (121.0/9641.0)\n",
       "1      1   338.0   62.0   0.845     (338.0/400.0)\n",
       "2  Total  9858.0  183.0  0.0457   (459.0/10041.0)"
      ]
     },
     "metadata": {},
     "output_type": "display_data"
    },
    {
     "name": "stdout",
     "output_type": "stream",
     "text": [
      "\n",
      "<class 'str'>\n",
      "/Users/kerrirapes/Documents/Projects/sendwave/analysis/data_interpretation_modules/src/maxmind_ip/models/StackedEnsemble_AllModels_AutoML_20201125_133606 /Users/kerrirapes/Documents/Projects/sendwave/analysis/data_interpretation_modules/src/maxmind_ip/models/StackedEnsemble_AllModels_AutoML_20201125_133606\n"
     ]
    },
    {
     "data": {
      "image/png": "[encoded data removed]",
      "text/plain": [
       "<Figure size 1080x576 with 1 Axes>"
      ]
     },
     "metadata": {
      "needs_background": "light"
     },
     "output_type": "display_data"
    },
    {
     "data": {
      "image/png": "[encoded data removed]",
      "text/plain": [
       "<Figure size 1080x576 with 1 Axes>"
      ]
     },
     "metadata": {
      "needs_background": "light"
     },
     "output_type": "display_data"
    },
    {
     "data": {
      "image/png": "[encoded data removed]",
      "text/plain": [
       "<Figure size 1080x576 with 1 Axes>"
      ]
     },
     "metadata": {
      "needs_background": "light"
     },
     "output_type": "display_data"
    },
    {
     "data": {
      "image/png": "[encoded data removed]",
      "text/plain": [
       "<Figure size 1080x576 with 1 Axes>"
      ]
     },
     "metadata": {
      "needs_background": "light"
     },
     "output_type": "display_data"
    }
   ],
   "source": [
    "trial = permutations['trial_1']\n",
    "print(trial)\n",
    "\n",
    "maxmind = MaxmindIp(ip=ip,\n",
    "                    username='h2o',\n",
    "                    password=password,\n",
    "                    port=54321)\n",
    "maxmind.config['costs'] = volume_based_config\n",
    "maxmind.config['step'] = 90\n",
    "data = maxmind.train(reset_lookback=False,\n",
    "                     reset_step=False,\n",
    "                     sample_size=None,\n",
    "                     model_type=trial['model_type'],\n",
    "                     cost_matrix_loss_metric=trial['cost_matrix_loss_metric'],\n",
    "                     search_time=SEARCH_TIME,\n",
    "                     evaluate=True)\n"
   ]
  },
  {
   "cell_type": "code",
   "execution_count": 7,
   "metadata": {},
   "outputs": [
    {
     "name": "stdout",
     "output_type": "stream",
     "text": [
      "Cost Baseline: -76460525.8666665    Cost New Approach: -80123634.69999991\n",
      "Impact: -3663108.833333418\n"
     ]
    },
    {
     "data": {
      "text/plain": [
       "<AxesSubplot:xlabel='grp', ylabel='today_result_cost'>"
      ]
     },
     "execution_count": 7,
     "metadata": {},
     "output_type": "execute_result"
    },
    {
     "data": {
      "image/png": "[encoded data removed]",
      "text/plain": [
       "<Figure size 1080x576 with 1 Axes>"
      ]
     },
     "metadata": {
      "needs_background": "light"
     },
     "output_type": "display_data"
    }
   ],
   "source": [
    "maxmind.plot_vs_baseline()"
   ]
  },
  {
   "cell_type": "code",
   "execution_count": 8,
   "metadata": {},
   "outputs": [
    {
     "name": "stdout",
     "output_type": "stream",
     "text": [
      "Total Volume sent to UPS (TP + FP): \n",
      "\t Baseline: 92275  New Approach: 46336\n",
      "The new approach has a decrease of 45939 tickets\n",
      "This represents a decrease of 49.78488214575996 percent\n"
     ]
    }
   ],
   "source": [
    "maxmind.stats_volume_vs_baseline()"
   ]
  },
  {
   "cell_type": "code",
   "execution_count": 9,
   "metadata": {},
   "outputs": [
    {
     "name": "stdout",
     "output_type": "stream",
     "text": [
      "Total Fraud Cases Detected (FP): \n",
      "\t Baseline: 66091  New Approach: 43646\n",
      "The new approach has a decrease of 22445 False Positives\n",
      "This represents change of 33.960751085624366 percent\n"
     ]
    }
   ],
   "source": [
    "maxmind.stats_fp_vs_baseline()"
   ]
  },
  {
   "cell_type": "code",
   "execution_count": 10,
   "metadata": {},
   "outputs": [
    {
     "name": "stdout",
     "output_type": "stream",
     "text": [
      "Total Fraud Cases Detected (TP): \n",
      "\t Baseline: 26184  New Approach: 2690\n",
      "The new approach has a decrease of 23494 True Positives\n",
      "This represents change of 89.72655056523068 percent\n"
     ]
    }
   ],
   "source": [
    "maxmind.stats_tp_vs_baseline()"
   ]
  },
  {
   "cell_type": "code",
   "execution_count": 63,
   "metadata": {},
   "outputs": [],
   "source": [
    "import pickle\n",
    "\n",
    "with open('data.pkl', 'wb') as f:\n",
    "    pickle.dump(data, f)"
   ]
  },
  {
   "cell_type": "code",
   "execution_count": 2,
   "metadata": {},
   "outputs": [
    {
     "data": {
      "text/html": [
       "<div>\n",
       "<style scoped>\n",
       "    .dataframe tbody tr th:only-of-type {\n",
       "        vertical-align: middle;\n",
       "    }\n",
       "\n",
       "    .dataframe tbody tr th {\n",
       "        vertical-align: top;\n",
       "    }\n",
       "\n",
       "    .dataframe thead th {\n",
       "        text-align: right;\n",
       "    }\n",
       "</style>\n",
       "<table border=\"1\" class=\"dataframe\">\n",
       "  <thead>\n",
       "    <tr style=\"text-align: right;\">\n",
       "      <th></th>\n",
       "      <th>when_created</th>\n",
       "      <th>risk_score</th>\n",
       "      <th>u_id</th>\n",
       "      <th>status</th>\n",
       "      <th>chargeback_date</th>\n",
       "      <th>corridor</th>\n",
       "      <th>fraud</th>\n",
       "      <th>confusion_matrix</th>\n",
       "      <th>today</th>\n",
       "      <th>today_result</th>\n",
       "      <th>time_delta</th>\n",
       "      <th>weight</th>\n",
       "      <th>real_result_270_90</th>\n",
       "      <th>real_result_cost_270_90</th>\n",
       "      <th>today_result_cost_270_90</th>\n",
       "      <th>grp</th>\n",
       "      <th>real_result</th>\n",
       "      <th>real_result_cost</th>\n",
       "      <th>today_result_cost</th>\n",
       "    </tr>\n",
       "  </thead>\n",
       "  <tbody>\n",
       "    <tr>\n",
       "      <th>0</th>\n",
       "      <td>2020-07-01 00:00:12.076063</td>\n",
       "      <td>NaN</td>\n",
       "      <td>35699</td>\n",
       "      <td>NaN</td>\n",
       "      <td>NaN</td>\n",
       "      <td>us-ke</td>\n",
       "      <td>0</td>\n",
       "      <td>tn</td>\n",
       "      <td>0</td>\n",
       "      <td>tn</td>\n",
       "      <td>85</td>\n",
       "      <td>0.685185</td>\n",
       "      <td>tn</td>\n",
       "      <td>0.1</td>\n",
       "      <td>0.1</td>\n",
       "      <td>1.0</td>\n",
       "      <td>tn</td>\n",
       "      <td>0.1</td>\n",
       "      <td>0.1</td>\n",
       "    </tr>\n",
       "    <tr>\n",
       "      <th>1</th>\n",
       "      <td>2020-07-01 00:00:17.669184</td>\n",
       "      <td>NaN</td>\n",
       "      <td>39633</td>\n",
       "      <td>NaN</td>\n",
       "      <td>NaN</td>\n",
       "      <td>us-ke</td>\n",
       "      <td>0</td>\n",
       "      <td>tn</td>\n",
       "      <td>0</td>\n",
       "      <td>tn</td>\n",
       "      <td>85</td>\n",
       "      <td>0.685185</td>\n",
       "      <td>tn</td>\n",
       "      <td>0.1</td>\n",
       "      <td>0.1</td>\n",
       "      <td>1.0</td>\n",
       "      <td>tn</td>\n",
       "      <td>0.1</td>\n",
       "      <td>0.1</td>\n",
       "    </tr>\n",
       "    <tr>\n",
       "      <th>2</th>\n",
       "      <td>2020-07-01 00:00:18.064482</td>\n",
       "      <td>NaN</td>\n",
       "      <td>880057</td>\n",
       "      <td>NaN</td>\n",
       "      <td>NaN</td>\n",
       "      <td>us-ng</td>\n",
       "      <td>0</td>\n",
       "      <td>tn</td>\n",
       "      <td>0</td>\n",
       "      <td>tn</td>\n",
       "      <td>85</td>\n",
       "      <td>0.685185</td>\n",
       "      <td>tn</td>\n",
       "      <td>0.1</td>\n",
       "      <td>0.1</td>\n",
       "      <td>1.0</td>\n",
       "      <td>tn</td>\n",
       "      <td>0.1</td>\n",
       "      <td>0.1</td>\n",
       "    </tr>\n",
       "    <tr>\n",
       "      <th>3</th>\n",
       "      <td>2020-07-01 00:00:22.684708</td>\n",
       "      <td>0.23</td>\n",
       "      <td>684507</td>\n",
       "      <td>NaN</td>\n",
       "      <td>NaN</td>\n",
       "      <td>gb-gh</td>\n",
       "      <td>0</td>\n",
       "      <td>tn</td>\n",
       "      <td>0</td>\n",
       "      <td>tn</td>\n",
       "      <td>85</td>\n",
       "      <td>0.685185</td>\n",
       "      <td>tn</td>\n",
       "      <td>0.1</td>\n",
       "      <td>0.1</td>\n",
       "      <td>1.0</td>\n",
       "      <td>tn</td>\n",
       "      <td>0.1</td>\n",
       "      <td>0.1</td>\n",
       "    </tr>\n",
       "    <tr>\n",
       "      <th>4</th>\n",
       "      <td>2020-07-01 00:00:26.428871</td>\n",
       "      <td>NaN</td>\n",
       "      <td>1038353</td>\n",
       "      <td>NaN</td>\n",
       "      <td>NaN</td>\n",
       "      <td>us-ng</td>\n",
       "      <td>0</td>\n",
       "      <td>tn</td>\n",
       "      <td>0</td>\n",
       "      <td>tn</td>\n",
       "      <td>85</td>\n",
       "      <td>0.685185</td>\n",
       "      <td>tn</td>\n",
       "      <td>0.1</td>\n",
       "      <td>0.1</td>\n",
       "      <td>1.0</td>\n",
       "      <td>tn</td>\n",
       "      <td>0.1</td>\n",
       "      <td>0.1</td>\n",
       "    </tr>\n",
       "    <tr>\n",
       "      <th>...</th>\n",
       "      <td>...</td>\n",
       "      <td>...</td>\n",
       "      <td>...</td>\n",
       "      <td>...</td>\n",
       "      <td>...</td>\n",
       "      <td>...</td>\n",
       "      <td>...</td>\n",
       "      <td>...</td>\n",
       "      <td>...</td>\n",
       "      <td>...</td>\n",
       "      <td>...</td>\n",
       "      <td>...</td>\n",
       "      <td>...</td>\n",
       "      <td>...</td>\n",
       "      <td>...</td>\n",
       "      <td>...</td>\n",
       "      <td>...</td>\n",
       "      <td>...</td>\n",
       "      <td>...</td>\n",
       "    </tr>\n",
       "    <tr>\n",
       "      <th>14628767</th>\n",
       "      <td>2020-01-20 23:37:54.100392</td>\n",
       "      <td>NaN</td>\n",
       "      <td>944265</td>\n",
       "      <td>NaN</td>\n",
       "      <td>NaN</td>\n",
       "      <td>-</td>\n",
       "      <td>0</td>\n",
       "      <td>tn</td>\n",
       "      <td>0</td>\n",
       "      <td>tn</td>\n",
       "      <td>247</td>\n",
       "      <td>0.085185</td>\n",
       "      <td>NaN</td>\n",
       "      <td>NaN</td>\n",
       "      <td>NaN</td>\n",
       "      <td>NaN</td>\n",
       "      <td>NaN</td>\n",
       "      <td>NaN</td>\n",
       "      <td>NaN</td>\n",
       "    </tr>\n",
       "    <tr>\n",
       "      <th>14628768</th>\n",
       "      <td>2020-01-29 01:30:28.429613</td>\n",
       "      <td>NaN</td>\n",
       "      <td>905870</td>\n",
       "      <td>NaN</td>\n",
       "      <td>NaN</td>\n",
       "      <td>-</td>\n",
       "      <td>0</td>\n",
       "      <td>tn</td>\n",
       "      <td>0</td>\n",
       "      <td>tn</td>\n",
       "      <td>239</td>\n",
       "      <td>0.114815</td>\n",
       "      <td>NaN</td>\n",
       "      <td>NaN</td>\n",
       "      <td>NaN</td>\n",
       "      <td>NaN</td>\n",
       "      <td>NaN</td>\n",
       "      <td>NaN</td>\n",
       "      <td>NaN</td>\n",
       "    </tr>\n",
       "    <tr>\n",
       "      <th>14628769</th>\n",
       "      <td>2020-01-15 18:18:10.479129</td>\n",
       "      <td>NaN</td>\n",
       "      <td>717576</td>\n",
       "      <td>NaN</td>\n",
       "      <td>NaN</td>\n",
       "      <td>us-gh</td>\n",
       "      <td>0</td>\n",
       "      <td>tn</td>\n",
       "      <td>0</td>\n",
       "      <td>tn</td>\n",
       "      <td>253</td>\n",
       "      <td>0.062963</td>\n",
       "      <td>NaN</td>\n",
       "      <td>NaN</td>\n",
       "      <td>NaN</td>\n",
       "      <td>NaN</td>\n",
       "      <td>NaN</td>\n",
       "      <td>NaN</td>\n",
       "      <td>NaN</td>\n",
       "    </tr>\n",
       "    <tr>\n",
       "      <th>14628770</th>\n",
       "      <td>2020-01-02 14:52:54.584341</td>\n",
       "      <td>NaN</td>\n",
       "      <td>435859</td>\n",
       "      <td>CLEARED</td>\n",
       "      <td>NaN</td>\n",
       "      <td>us-gh</td>\n",
       "      <td>0</td>\n",
       "      <td>fp</td>\n",
       "      <td>0</td>\n",
       "      <td>tn</td>\n",
       "      <td>266</td>\n",
       "      <td>0.014815</td>\n",
       "      <td>NaN</td>\n",
       "      <td>NaN</td>\n",
       "      <td>NaN</td>\n",
       "      <td>NaN</td>\n",
       "      <td>NaN</td>\n",
       "      <td>NaN</td>\n",
       "      <td>NaN</td>\n",
       "    </tr>\n",
       "    <tr>\n",
       "      <th>14628771</th>\n",
       "      <td>2020-01-29 04:25:54.609895</td>\n",
       "      <td>0.10</td>\n",
       "      <td>56417</td>\n",
       "      <td>NaN</td>\n",
       "      <td>NaN</td>\n",
       "      <td>us-ke</td>\n",
       "      <td>0</td>\n",
       "      <td>tn</td>\n",
       "      <td>0</td>\n",
       "      <td>tn</td>\n",
       "      <td>239</td>\n",
       "      <td>0.114815</td>\n",
       "      <td>NaN</td>\n",
       "      <td>NaN</td>\n",
       "      <td>NaN</td>\n",
       "      <td>NaN</td>\n",
       "      <td>NaN</td>\n",
       "      <td>NaN</td>\n",
       "      <td>NaN</td>\n",
       "    </tr>\n",
       "  </tbody>\n",
       "</table>\n",
       "<p>14628772 rows × 19 columns</p>\n",
       "</div>"
      ],
      "text/plain": [
       "                       when_created  risk_score     u_id   status  \\\n",
       "0        2020-07-01 00:00:12.076063         NaN    35699      NaN   \n",
       "1        2020-07-01 00:00:17.669184         NaN    39633      NaN   \n",
       "2        2020-07-01 00:00:18.064482         NaN   880057      NaN   \n",
       "3        2020-07-01 00:00:22.684708        0.23   684507      NaN   \n",
       "4        2020-07-01 00:00:26.428871         NaN  1038353      NaN   \n",
       "...                             ...         ...      ...      ...   \n",
       "14628767 2020-01-20 23:37:54.100392         NaN   944265      NaN   \n",
       "14628768 2020-01-29 01:30:28.429613         NaN   905870      NaN   \n",
       "14628769 2020-01-15 18:18:10.479129         NaN   717576      NaN   \n",
       "14628770 2020-01-02 14:52:54.584341         NaN   435859  CLEARED   \n",
       "14628771 2020-01-29 04:25:54.609895        0.10    56417      NaN   \n",
       "\n",
       "         chargeback_date corridor  fraud confusion_matrix  today today_result  \\\n",
       "0                    NaN    us-ke      0               tn      0           tn   \n",
       "1                    NaN    us-ke      0               tn      0           tn   \n",
       "2                    NaN    us-ng      0               tn      0           tn   \n",
       "3                    NaN    gb-gh      0               tn      0           tn   \n",
       "4                    NaN    us-ng      0               tn      0           tn   \n",
       "...                  ...      ...    ...              ...    ...          ...   \n",
       "14628767             NaN        -      0               tn      0           tn   \n",
       "14628768             NaN        -      0               tn      0           tn   \n",
       "14628769             NaN    us-gh      0               tn      0           tn   \n",
       "14628770             NaN    us-gh      0               fp      0           tn   \n",
       "14628771             NaN    us-ke      0               tn      0           tn   \n",
       "\n",
       "          time_delta    weight real_result_270_90  real_result_cost_270_90  \\\n",
       "0                 85  0.685185                 tn                      0.1   \n",
       "1                 85  0.685185                 tn                      0.1   \n",
       "2                 85  0.685185                 tn                      0.1   \n",
       "3                 85  0.685185                 tn                      0.1   \n",
       "4                 85  0.685185                 tn                      0.1   \n",
       "...              ...       ...                ...                      ...   \n",
       "14628767         247  0.085185                NaN                      NaN   \n",
       "14628768         239  0.114815                NaN                      NaN   \n",
       "14628769         253  0.062963                NaN                      NaN   \n",
       "14628770         266  0.014815                NaN                      NaN   \n",
       "14628771         239  0.114815                NaN                      NaN   \n",
       "\n",
       "          today_result_cost_270_90  grp real_result  real_result_cost  \\\n",
       "0                              0.1  1.0          tn               0.1   \n",
       "1                              0.1  1.0          tn               0.1   \n",
       "2                              0.1  1.0          tn               0.1   \n",
       "3                              0.1  1.0          tn               0.1   \n",
       "4                              0.1  1.0          tn               0.1   \n",
       "...                            ...  ...         ...               ...   \n",
       "14628767                       NaN  NaN         NaN               NaN   \n",
       "14628768                       NaN  NaN         NaN               NaN   \n",
       "14628769                       NaN  NaN         NaN               NaN   \n",
       "14628770                       NaN  NaN         NaN               NaN   \n",
       "14628771                       NaN  NaN         NaN               NaN   \n",
       "\n",
       "          today_result_cost  \n",
       "0                       0.1  \n",
       "1                       0.1  \n",
       "2                       0.1  \n",
       "3                       0.1  \n",
       "4                       0.1  \n",
       "...                     ...  \n",
       "14628767                NaN  \n",
       "14628768                NaN  \n",
       "14628769                NaN  \n",
       "14628770                NaN  \n",
       "14628771                NaN  \n",
       "\n",
       "[14628772 rows x 19 columns]"
      ]
     },
     "execution_count": 2,
     "metadata": {},
     "output_type": "execute_result"
    }
   ],
   "source": [
    "import pickle \n",
    "\n",
    "with open('data.pkl', 'rb') as f:\n",
    "    data = pickle.load(f)\n",
    "data"
   ]
  },
  {
   "cell_type": "code",
   "execution_count": 33,
   "metadata": {
    "scrolled": false
   },
   "outputs": [
    {
     "data": {
      "text/plain": [
       "<seaborn.axisgrid.FacetGrid at 0x13ec0b910>"
      ]
     },
     "execution_count": 33,
     "metadata": {},
     "output_type": "execute_result"
    },
    {
     "data": {
      "text/plain": [
       "<Figure size 1152x432 with 0 Axes>"
      ]
     },
     "metadata": {},
     "output_type": "display_data"
    },
    {
     "data": {
      "image/png": "[encoded data removed]",
      "text/plain": [
       "<Figure size 762.375x720 with 1 Axes>"
      ]
     },
     "metadata": {
      "needs_background": "light"
     },
     "output_type": "display_data"
    }
   ],
   "source": [
    "%matplotlib inline\n",
    "import numpy as np\n",
    "import pandas as pd\n",
    "import seaborn as sns\n",
    "import matplotlib.pyplot as plt\n",
    "\n",
    "plt.figure(figsize=(16, 6))\n",
    "\n",
    "pd.set_option('display.max_rows', None)\n",
    "columns = ['when_created', 'risk_score', 'fraud', 'today_result', 'real_result', 'corridor']\n",
    "#conflict = data[data['today_result'] != data['real_result']][columns].dropna()\n",
    "#display(data[columns].dropna().groupby(['today_result', 'real_result', 'corridor']).count())\n",
    "\n",
    "df = data[data['risk_score'] > 1]\n",
    "#df = df[df['real_result'] != 'tn'].dropna()\n",
    "df = df.dropna()\n",
    "\n",
    "#sns.barplot(data=df, x='when_created', y='risk_score', hue=df.today_result.to_list())\n",
    "sns.displot(data=df, x='risk_score',  kind='hist', hue=df.fraud.to_list(), height=10, aspect=1)"
   ]
  },
  {
   "cell_type": "code",
   "execution_count": 34,
   "metadata": {},
   "outputs": [],
   "source": [
    "data[data['fraud'] == 0]"
   ]
  },
  {
   "cell_type": "code",
   "execution_count": 11,
   "metadata": {},
   "outputs": [],
   "source": [
    "permutations['trial_1']['impact'] = maxmind.cost_impact()"
   ]
  },
  {
   "cell_type": "code",
   "execution_count": 12,
   "metadata": {},
   "outputs": [
    {
     "name": "stdout",
     "output_type": "stream",
     "text": [
      "{'model_type': 'GradientBoosting', 'cost_matrix_loss_metric': False}\n"
     ]
    },
    {
     "name": "stderr",
     "output_type": "stream",
     "text": [
      "/Users/kerrirapes/Documents/Projects/sendwave/analysis/email_maxmind/emaxmind/lib/python3.8/site-packages/IPython/core/interactiveshell.py:3417: DtypeWarning: Columns (4) have mixed types.Specify dtype option on import or set low_memory=False.\n",
      "  exec(code_obj, self.user_global_ns, self.user_ns)\n"
     ]
    },
    {
     "name": "stdout",
     "output_type": "stream",
     "text": [
      "data available: 14628772\n",
      "data length: 14628772\n"
     ]
    },
    {
     "ename": "KeyError",
     "evalue": "'costs'",
     "output_type": "error",
     "traceback": [
      "\u001b[0;31m---------------------------------------------------------------------------\u001b[0m",
      "\u001b[0;31mKeyError\u001b[0m                                  Traceback (most recent call last)",
      "\u001b[0;32m<ipython-input-12-d513585561ca>\u001b[0m in \u001b[0;36m<module>\u001b[0;34m\u001b[0m\n\u001b[1;32m      8\u001b[0m \u001b[0mmaxmind\u001b[0m\u001b[0;34m.\u001b[0m\u001b[0mconfig\u001b[0m\u001b[0;34m[\u001b[0m\u001b[0;34m'step'\u001b[0m\u001b[0;34m]\u001b[0m \u001b[0;34m=\u001b[0m \u001b[0;36m90\u001b[0m\u001b[0;34m\u001b[0m\u001b[0;34m\u001b[0m\u001b[0m\n\u001b[1;32m      9\u001b[0m \u001b[0mmaxmind\u001b[0m\u001b[0;34m.\u001b[0m\u001b[0mconfig\u001b[0m \u001b[0;34m=\u001b[0m \u001b[0mvolume_based_config\u001b[0m\u001b[0;34m\u001b[0m\u001b[0;34m\u001b[0m\u001b[0m\n\u001b[0;32m---> 10\u001b[0;31m data = maxmind.train(reset_lookback=False,\n\u001b[0m\u001b[1;32m     11\u001b[0m                      \u001b[0mreset_step\u001b[0m\u001b[0;34m=\u001b[0m\u001b[0;32mFalse\u001b[0m\u001b[0;34m,\u001b[0m\u001b[0;34m\u001b[0m\u001b[0;34m\u001b[0m\u001b[0m\n\u001b[1;32m     12\u001b[0m                      \u001b[0msample_size\u001b[0m\u001b[0;34m=\u001b[0m\u001b[0;32mNone\u001b[0m\u001b[0;34m,\u001b[0m\u001b[0;34m\u001b[0m\u001b[0;34m\u001b[0m\u001b[0m\n",
      "\u001b[0;32m~/Documents/Projects/sendwave/analysis/data_interpretation_modules/src/maxmind_ip/MaxmindIp.py\u001b[0m in \u001b[0;36mtrain\u001b[0;34m(self, reset_lookback, reset_step, sample_size, evaluate, model_type, cost_matrix_loss_metric, search_time)\u001b[0m\n\u001b[1;32m    181\u001b[0m             \u001b[0mdata\u001b[0m \u001b[0;34m=\u001b[0m \u001b[0mself\u001b[0m\u001b[0;34m.\u001b[0m\u001b[0mload_data\u001b[0m\u001b[0;34m(\u001b[0m\u001b[0msample_size\u001b[0m\u001b[0;34m=\u001b[0m\u001b[0msample_size\u001b[0m\u001b[0;34m)\u001b[0m\u001b[0;34m\u001b[0m\u001b[0;34m\u001b[0m\u001b[0m\n\u001b[1;32m    182\u001b[0m             todays_update = TrainingModel(data,\n\u001b[0;32m--> 183\u001b[0;31m                                           \u001b[0mself\u001b[0m\u001b[0;34m.\u001b[0m\u001b[0mconfig\u001b[0m\u001b[0;34m[\u001b[0m\u001b[0;34m'costs'\u001b[0m\u001b[0;34m]\u001b[0m\u001b[0;34m,\u001b[0m\u001b[0;34m\u001b[0m\u001b[0;34m\u001b[0m\u001b[0m\n\u001b[0m\u001b[1;32m    184\u001b[0m                                           \u001b[0mlookback\u001b[0m\u001b[0;34m=\u001b[0m\u001b[0mlookback\u001b[0m\u001b[0;34m,\u001b[0m\u001b[0;34m\u001b[0m\u001b[0;34m\u001b[0m\u001b[0m\n\u001b[1;32m    185\u001b[0m                                           \u001b[0mstep\u001b[0m\u001b[0;34m=\u001b[0m\u001b[0mstep\u001b[0m\u001b[0;34m,\u001b[0m\u001b[0;34m\u001b[0m\u001b[0;34m\u001b[0m\u001b[0m\n",
      "\u001b[0;31mKeyError\u001b[0m: 'costs'"
     ]
    }
   ],
   "source": [
    "trial = permutations['trial_2']\n",
    "print(trial)\n",
    "\n",
    "maxmind = MaxmindIp(ip=ip,\n",
    "                    username='h2o',\n",
    "                    password=password,\n",
    "                    port=54321)\n",
    "maxmind.config['step'] = 90\n",
    "maxmind.config['costs'] = volume_based_config\n",
    "data = maxmind.train(reset_lookback=False,\n",
    "                     reset_step=False,\n",
    "                     sample_size=None,\n",
    "                     model_type=trial['model_type'],\n",
    "                     cost_matrix_loss_metric=trial['cost_matrix_loss_metric'],\n",
    "                     search_time=SEARCH_TIME,\n",
    "                     evaluate=True)"
   ]
  },
  {
   "cell_type": "code",
   "execution_count": null,
   "metadata": {},
   "outputs": [],
   "source": [
    "maxmind.plot_vs_baseline()"
   ]
  },
  {
   "cell_type": "code",
   "execution_count": null,
   "metadata": {},
   "outputs": [],
   "source": [
    "maxmind.stats_volume_vs_baseline()"
   ]
  },
  {
   "cell_type": "code",
   "execution_count": null,
   "metadata": {},
   "outputs": [],
   "source": [
    "maxmind.stats_fp_vs_baseline()"
   ]
  },
  {
   "cell_type": "code",
   "execution_count": null,
   "metadata": {},
   "outputs": [],
   "source": [
    "maxmind.stats_tp_vs_baseline()"
   ]
  },
  {
   "cell_type": "code",
   "execution_count": null,
   "metadata": {},
   "outputs": [],
   "source": [
    "permutations['trial_2']['impact'] = maxmind.cost_impact()"
   ]
  },
  {
   "cell_type": "code",
   "execution_count": null,
   "metadata": {},
   "outputs": [],
   "source": [
    "trial = permutations['trial_3']\n",
    "print(trial)\n",
    "\n",
    "maxmind = MaxmindIp(ip=ip,\n",
    "                    username='h2o',\n",
    "                    password=password,\n",
    "                    port=54321)\n",
    "maxmind.config['step'] = 90\n",
    "maxmind.config = volume_based_config\n",
    "data = maxmind.train(reset_lookback=False,\n",
    "                     reset_step=False,\n",
    "                     sample_size=None,\n",
    "                     model_type=trial['model_type'],\n",
    "                     cost_matrix_loss_metric=trial['cost_matrix_loss_metric'],\n",
    "                     search_time=SEARCH_TIME,\n",
    "                     evaluate=True)"
   ]
  },
  {
   "cell_type": "code",
   "execution_count": null,
   "metadata": {},
   "outputs": [],
   "source": [
    "maxmind.plot_vs_baseline()"
   ]
  },
  {
   "cell_type": "code",
   "execution_count": null,
   "metadata": {},
   "outputs": [],
   "source": [
    "maxmind.stats_volume_vs_baseline()"
   ]
  },
  {
   "cell_type": "code",
   "execution_count": null,
   "metadata": {},
   "outputs": [],
   "source": [
    "maxmind.stats_fp_vs_baseline()"
   ]
  },
  {
   "cell_type": "code",
   "execution_count": null,
   "metadata": {},
   "outputs": [],
   "source": [
    "maxmind.stats_tp_vs_baseline()"
   ]
  },
  {
   "cell_type": "code",
   "execution_count": null,
   "metadata": {},
   "outputs": [],
   "source": [
    "permutations['trial_3']['impact'] = maxmind.cost_impact()"
   ]
  }
 ],
 "metadata": {
  "kernelspec": {
   "display_name": "emaxmind",
   "language": "python",
   "name": "emaxmind"
  },
  "language_info": {
   "codemirror_mode": {
    "name": "ipython",
    "version": 3
   },
   "file_extension": ".py",
   "mimetype": "text/x-python",
   "name": "python",
   "nbconvert_exporter": "python",
   "pygments_lexer": "ipython3",
   "version": "3.8.5"
  }
 },
 "nbformat": 4,
 "nbformat_minor": 4
}
