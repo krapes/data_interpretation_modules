{
 "cells": [
  {
   "cell_type": "code",
   "execution_count": 1,
   "metadata": {},
   "outputs": [],
   "source": [
    "import sys\n",
    "sys.path.append(\"..\")\n",
    "\n",
    "from src import MaxmindIp\n",
    "from helpers import function_time\n",
    "\n",
    "\n",
    "TOTAL_TIME = 10*60*60\n",
    "SECTION_TIME = int(TOTAL_TIME / 4)\n",
    "SEARCH_TIME = int(SECTION_TIME / 4)"
   ]
  },
  {
   "cell_type": "code",
   "execution_count": null,
   "metadata": {},
   "outputs": [],
   "source": [
    "ip = '3.234.225.107'\n",
    "password = 'i-02b5800d4e304696b'"
   ]
  },
  {
   "cell_type": "code",
   "execution_count": 2,
   "metadata": {},
   "outputs": [],
   "source": [
    "permutations = {'trial_1': {'model_type': 'AutoML', 'cost_matrix_loss_metric': False},\n",
    "                'trial_2': {'model_type': 'GradientBoosting', 'cost_matrix_loss_metric': False},\n",
    "                'trial_3': {'model_type': 'GradientBoosting', 'cost_matrix_loss_metric': True}}"
   ]
  },
  {
   "cell_type": "code",
   "execution_count": null,
   "metadata": {
    "scrolled": false
   },
   "outputs": [
    {
     "name": "stdout",
     "output_type": "stream",
     "text": [
      "{'model_type': 'AutoML', 'cost_matrix_loss_metric': False}\n"
     ]
    },
    {
     "name": "stderr",
     "output_type": "stream",
     "text": [
      "/Users/kerrirapes/Documents/Projects/sendwave/analysis/email_maxmind/emaxmind/lib/python3.8/site-packages/IPython/core/interactiveshell.py:3417: DtypeWarning: Columns (4) have mixed types.Specify dtype option on import or set low_memory=False.\n",
      "  exec(code_obj, self.user_global_ns, self.user_ns)\n"
     ]
    },
    {
     "name": "stdout",
     "output_type": "stream",
     "text": [
      "data available: 14628772\n",
      "data length: 11889813\n",
      "Checking whether there is an H2O instance running at http://3.234.225.107:54321 . connected.\n"
     ]
    },
    {
     "data": {
      "text/html": [
       "<div style=\"overflow:auto\"><table style=\"width:50%\"><tr><td>H2O_cluster_uptime:</td>\n",
       "<td>11 mins 19 secs</td></tr>\n",
       "<tr><td>H2O_cluster_timezone:</td>\n",
       "<td>Etc/UTC</td></tr>\n",
       "<tr><td>H2O_data_parsing_timezone:</td>\n",
       "<td>UTC</td></tr>\n",
       "<tr><td>H2O_cluster_version:</td>\n",
       "<td>3.32.0.2</td></tr>\n",
       "<tr><td>H2O_cluster_version_age:</td>\n",
       "<td>5 days </td></tr>\n",
       "<tr><td>H2O_cluster_name:</td>\n",
       "<td>root</td></tr>\n",
       "<tr><td>H2O_cluster_total_nodes:</td>\n",
       "<td>1</td></tr>\n",
       "<tr><td>H2O_cluster_free_memory:</td>\n",
       "<td>45.93 Gb</td></tr>\n",
       "<tr><td>H2O_cluster_total_cores:</td>\n",
       "<td>36</td></tr>\n",
       "<tr><td>H2O_cluster_allowed_cores:</td>\n",
       "<td>36</td></tr>\n",
       "<tr><td>H2O_cluster_status:</td>\n",
       "<td>accepting new members, healthy</td></tr>\n",
       "<tr><td>H2O_connection_url:</td>\n",
       "<td>http://3.234.225.107:54321</td></tr>\n",
       "<tr><td>H2O_connection_proxy:</td>\n",
       "<td>null</td></tr>\n",
       "<tr><td>H2O_internal_security:</td>\n",
       "<td>False</td></tr>\n",
       "<tr><td>H2O_API_Extensions:</td>\n",
       "<td>Amazon S3, XGBoost, Algos, AutoML, Core V3, TargetEncoder, Core V4</td></tr>\n",
       "<tr><td>Python_version:</td>\n",
       "<td>3.8.5 final</td></tr></table></div>"
      ],
      "text/plain": [
       "--------------------------  ------------------------------------------------------------------\n",
       "H2O_cluster_uptime:         11 mins 19 secs\n",
       "H2O_cluster_timezone:       Etc/UTC\n",
       "H2O_data_parsing_timezone:  UTC\n",
       "H2O_cluster_version:        3.32.0.2\n",
       "H2O_cluster_version_age:    5 days\n",
       "H2O_cluster_name:           root\n",
       "H2O_cluster_total_nodes:    1\n",
       "H2O_cluster_free_memory:    45.93 Gb\n",
       "H2O_cluster_total_cores:    36\n",
       "H2O_cluster_allowed_cores:  36\n",
       "H2O_cluster_status:         accepting new members, healthy\n",
       "H2O_connection_url:         http://3.234.225.107:54321\n",
       "H2O_connection_proxy:       null\n",
       "H2O_internal_security:      False\n",
       "H2O_API_Extensions:         Amazon S3, XGBoost, Algos, AutoML, Core V3, TargetEncoder, Core V4\n",
       "Python_version:             3.8.5 final\n",
       "--------------------------  ------------------------------------------------------------------"
      ]
     },
     "metadata": {},
     "output_type": "display_data"
    },
    {
     "name": "stdout",
     "output_type": "stream",
     "text": [
      "Date: 2020-05-27 00:00:00       Lookback: 270   Step: 90\n",
      "Parse progress: |█████████████████████████████████████████████████████████| 100%\n"
     ]
    },
    {
     "name": "stderr",
     "output_type": "stream",
     "text": [
      "INFO:root:Training AutoML\n"
     ]
    },
    {
     "name": "stdout",
     "output_type": "stream",
     "text": [
      "AutoML progress: |████████████████████████████████████████████████████████| 100%\n",
      "stackedensemble prediction progress: |████████████████████████████████████| 100%\n"
     ]
    }
   ],
   "source": [
    "trial = permutations['trial_1']\n",
    "print(trial)\n",
    "\n",
    "maxmind = MaxmindIp(ip=ip,\n",
    "                    username='h2o',\n",
    "                    password=password,\n",
    "                    port=54321)\n",
    "maxmind.config['step'] = 90\n",
    "data = maxmind.train(reset_lookback=False,\n",
    "                     reset_step=False,\n",
    "                     sample_size=None,\n",
    "                     model_type=trial['model_type'],\n",
    "                     cost_matrix_loss_metric=trial['cost_matrix_loss_metric'],\n",
    "                     search_time=60*2,\n",
    "                     evaluate=True)\n",
    "\n",
    "volume_based_config = maxmind.configure_volume_equals_baseline(search_time=-1)"
   ]
  },
  {
   "cell_type": "code",
   "execution_count": null,
   "metadata": {},
   "outputs": [],
   "source": [
    "trial = permutations['trial_1']\n",
    "print(trial)\n",
    "\n",
    "maxmind = MaxmindIp(ip=ip,\n",
    "                    username='h2o',\n",
    "                    password=password,\n",
    "                    port=54321)\n",
    "maxmind.config = volume_based_config\n",
    "maxmind.config['step'] = 90\n",
    "data = maxmind.train(reset_lookback=False,\n",
    "                     reset_step=False,\n",
    "                     sample_size=None,\n",
    "                     model_type=trial['model_type'],\n",
    "                     cost_matrix_loss_metric=trial['cost_matrix_loss_metric'],\n",
    "                     search_time=SEARCH_TIME,\n",
    "                     evaluate=True)\n"
   ]
  },
  {
   "cell_type": "code",
   "execution_count": null,
   "metadata": {},
   "outputs": [],
   "source": [
    "maxmind.plot_vs_baseline()"
   ]
  },
  {
   "cell_type": "code",
   "execution_count": null,
   "metadata": {},
   "outputs": [],
   "source": [
    "maxmind.stats_volume_vs_baseline()"
   ]
  },
  {
   "cell_type": "code",
   "execution_count": null,
   "metadata": {},
   "outputs": [],
   "source": [
    "maxmind.stats_fp_vs_baseline()"
   ]
  },
  {
   "cell_type": "code",
   "execution_count": null,
   "metadata": {},
   "outputs": [],
   "source": [
    "maxmind.stats_tp_vs_baseline()"
   ]
  },
  {
   "cell_type": "code",
   "execution_count": null,
   "metadata": {},
   "outputs": [],
   "source": [
    "permutations['trial_1']['impact'] = maxmind.cost_impact()"
   ]
  },
  {
   "cell_type": "code",
   "execution_count": null,
   "metadata": {},
   "outputs": [],
   "source": [
    "trial = permutations['trial_2']\n",
    "print(trial)\n",
    "\n",
    "maxmind = MaxmindIp(ip=ip,\n",
    "                    username='h2o',\n",
    "                    password=password,\n",
    "                    port=54321)\n",
    "maxmind.config['step'] = 90\n",
    "maxmind.config = volume_based_config\n",
    "data = maxmind.train(reset_lookback=False,\n",
    "                     reset_step=False,\n",
    "                     sample_size=None,\n",
    "                     model_type=trial['model_type'],\n",
    "                     cost_matrix_loss_metric=trial['cost_matrix_loss_metric'],\n",
    "                     search_time=SEARCH_TIME,\n",
    "                     evaluate=True)"
   ]
  },
  {
   "cell_type": "code",
   "execution_count": null,
   "metadata": {},
   "outputs": [],
   "source": [
    "maxmind.plot_vs_baseline()"
   ]
  },
  {
   "cell_type": "code",
   "execution_count": null,
   "metadata": {},
   "outputs": [],
   "source": [
    "maxmind.stats_volume_vs_baseline()"
   ]
  },
  {
   "cell_type": "code",
   "execution_count": null,
   "metadata": {},
   "outputs": [],
   "source": [
    "maxmind.stats_fp_vs_baseline()"
   ]
  },
  {
   "cell_type": "code",
   "execution_count": null,
   "metadata": {},
   "outputs": [],
   "source": [
    "maxmind.stats_tp_vs_baseline()"
   ]
  },
  {
   "cell_type": "code",
   "execution_count": null,
   "metadata": {},
   "outputs": [],
   "source": [
    "permutations['trial_2']['impact'] = maxmind.cost_impact()"
   ]
  },
  {
   "cell_type": "code",
   "execution_count": null,
   "metadata": {},
   "outputs": [],
   "source": [
    "trial = permutations['trial_3']\n",
    "print(trial)\n",
    "\n",
    "maxmind = MaxmindIp(ip=ip,\n",
    "                    username='h2o',\n",
    "                    password=password,\n",
    "                    port=54321)\n",
    "maxmind.config['step'] = 90\n",
    "maxmind.config = volume_based_config\n",
    "data = maxmind.train(reset_lookback=False,\n",
    "                     reset_step=False,\n",
    "                     sample_size=None,\n",
    "                     model_type=trial['model_type'],\n",
    "                     cost_matrix_loss_metric=trial['cost_matrix_loss_metric'],\n",
    "                     search_time=SEARCH_TIME,\n",
    "                     evaluate=True)"
   ]
  },
  {
   "cell_type": "code",
   "execution_count": null,
   "metadata": {},
   "outputs": [],
   "source": [
    "maxmind.plot_vs_baseline()"
   ]
  },
  {
   "cell_type": "code",
   "execution_count": null,
   "metadata": {},
   "outputs": [],
   "source": [
    "maxmind.stats_volume_vs_baseline()"
   ]
  },
  {
   "cell_type": "code",
   "execution_count": null,
   "metadata": {},
   "outputs": [],
   "source": [
    "maxmind.stats_fp_vs_baseline()"
   ]
  },
  {
   "cell_type": "code",
   "execution_count": null,
   "metadata": {},
   "outputs": [],
   "source": [
    "maxmind.stats_tp_vs_baseline()"
   ]
  },
  {
   "cell_type": "code",
   "execution_count": null,
   "metadata": {},
   "outputs": [],
   "source": [
    "permutations['trial_3']['impact'] = maxmind.cost_impact()"
   ]
  }
 ],
 "metadata": {
  "kernelspec": {
   "display_name": "emaxmind",
   "language": "python",
   "name": "emaxmind"
  },
  "language_info": {
   "codemirror_mode": {
    "name": "ipython",
    "version": 3
   },
   "file_extension": ".py",
   "mimetype": "text/x-python",
   "name": "python",
   "nbconvert_exporter": "python",
   "pygments_lexer": "ipython3",
   "version": "3.8.5"
  }
 },
 "nbformat": 4,
 "nbformat_minor": 4
}
